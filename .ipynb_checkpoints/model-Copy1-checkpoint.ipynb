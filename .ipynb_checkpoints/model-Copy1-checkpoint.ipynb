{
 "cells": [
  {
   "cell_type": "code",
   "execution_count": 2,
   "id": "11dc6e3a",
   "metadata": {
    "id": "11dc6e3a"
   },
   "outputs": [],
   "source": [
    "import numpy as np\n",
    "import matplotlib.pyplot as plt\n",
    "import pandas as pd\n",
    "import seaborn as sns\n",
    "from sklearn.metrics import r2_score,mean_squared_error,mean_absolute_error,accuracy_score\n",
    "import pickle"
   ]
  },
  {
   "cell_type": "code",
   "execution_count": 3,
   "id": "3a4a836c",
   "metadata": {
    "colab": {
     "base_uri": "https://localhost:8080/",
     "height": 373
    },
    "id": "3a4a836c",
    "outputId": "8fc8fb5b-db5b-4392-84c0-2a5c1d6783ae"
   },
   "outputs": [
    {
     "data": {
      "text/html": [
       "<div>\n",
       "<style scoped>\n",
       "    .dataframe tbody tr th:only-of-type {\n",
       "        vertical-align: middle;\n",
       "    }\n",
       "\n",
       "    .dataframe tbody tr th {\n",
       "        vertical-align: top;\n",
       "    }\n",
       "\n",
       "    .dataframe thead th {\n",
       "        text-align: right;\n",
       "    }\n",
       "</style>\n",
       "<table border=\"1\" class=\"dataframe\">\n",
       "  <thead>\n",
       "    <tr style=\"text-align: right;\">\n",
       "      <th></th>\n",
       "      <th>id</th>\n",
       "      <th>Brand</th>\n",
       "      <th>link</th>\n",
       "      <th>City - Cold Weather</th>\n",
       "      <th>Highway - Cold Weather</th>\n",
       "      <th>Combined - Cold Weather</th>\n",
       "      <th>City - Mild Weather</th>\n",
       "      <th>Highway - Mild Weather</th>\n",
       "      <th>Combined - Mild Weather</th>\n",
       "      <th>Acceleration 0 - 100 km/h</th>\n",
       "      <th>...</th>\n",
       "      <th>Charge Speed</th>\n",
       "      <th>Fastcharge Speed</th>\n",
       "      <th>Length</th>\n",
       "      <th>Width</th>\n",
       "      <th>Height</th>\n",
       "      <th>Wheelbase</th>\n",
       "      <th>Gross Vehicle Weight (GVWR)</th>\n",
       "      <th>Max. Payload</th>\n",
       "      <th>Cargo Volume</th>\n",
       "      <th>Seats</th>\n",
       "    </tr>\n",
       "  </thead>\n",
       "  <tbody>\n",
       "    <tr>\n",
       "      <th>0</th>\n",
       "      <td>1647</td>\n",
       "      <td>Genesis</td>\n",
       "      <td>https://ev-database.org/car/1647/Genesis-GV60-...</td>\n",
       "      <td>390</td>\n",
       "      <td>275</td>\n",
       "      <td>330</td>\n",
       "      <td>575</td>\n",
       "      <td>355</td>\n",
       "      <td>445</td>\n",
       "      <td>7.8</td>\n",
       "      <td>...</td>\n",
       "      <td>49</td>\n",
       "      <td>1020</td>\n",
       "      <td>4515</td>\n",
       "      <td>1890</td>\n",
       "      <td>1580</td>\n",
       "      <td>2900</td>\n",
       "      <td>2495</td>\n",
       "      <td>595</td>\n",
       "      <td>432</td>\n",
       "      <td>5</td>\n",
       "    </tr>\n",
       "    <tr>\n",
       "      <th>1</th>\n",
       "      <td>1493</td>\n",
       "      <td>Mercedes</td>\n",
       "      <td>https://ev-database.org/car/1493/Mercedes-EQB-...</td>\n",
       "      <td>330</td>\n",
       "      <td>235</td>\n",
       "      <td>280</td>\n",
       "      <td>480</td>\n",
       "      <td>300</td>\n",
       "      <td>375</td>\n",
       "      <td>6.2</td>\n",
       "      <td>...</td>\n",
       "      <td>46</td>\n",
       "      <td>470</td>\n",
       "      <td>4684</td>\n",
       "      <td>1834</td>\n",
       "      <td>1701</td>\n",
       "      <td>2829</td>\n",
       "      <td>2580</td>\n",
       "      <td>480</td>\n",
       "      <td>495</td>\n",
       "      <td>7</td>\n",
       "    </tr>\n",
       "    <tr>\n",
       "      <th>2</th>\n",
       "      <td>1229</td>\n",
       "      <td>Porsche</td>\n",
       "      <td>https://ev-database.org/car/1229/Porsche-Tayca...</td>\n",
       "      <td>400</td>\n",
       "      <td>305</td>\n",
       "      <td>350</td>\n",
       "      <td>580</td>\n",
       "      <td>385</td>\n",
       "      <td>470</td>\n",
       "      <td>3.2</td>\n",
       "      <td>...</td>\n",
       "      <td>46</td>\n",
       "      <td>1020</td>\n",
       "      <td>4963</td>\n",
       "      <td>1966</td>\n",
       "      <td>1381</td>\n",
       "      <td>2900</td>\n",
       "      <td>2880</td>\n",
       "      <td>575</td>\n",
       "      <td>366</td>\n",
       "      <td>4</td>\n",
       "    </tr>\n",
       "    <tr>\n",
       "      <th>3</th>\n",
       "      <td>1252</td>\n",
       "      <td>BMW</td>\n",
       "      <td>https://ev-database.org/car/1252/BMW-i4-eDrive40</td>\n",
       "      <td>445</td>\n",
       "      <td>340</td>\n",
       "      <td>390</td>\n",
       "      <td>670</td>\n",
       "      <td>440</td>\n",
       "      <td>540</td>\n",
       "      <td>5.7</td>\n",
       "      <td>...</td>\n",
       "      <td>54</td>\n",
       "      <td>730</td>\n",
       "      <td>4783</td>\n",
       "      <td>1852</td>\n",
       "      <td>1448</td>\n",
       "      <td>2856</td>\n",
       "      <td>2605</td>\n",
       "      <td>555</td>\n",
       "      <td>470</td>\n",
       "      <td>5</td>\n",
       "    </tr>\n",
       "    <tr>\n",
       "      <th>4</th>\n",
       "      <td>1534</td>\n",
       "      <td>Volkswagen</td>\n",
       "      <td>https://ev-database.org/car/1534/Volkswagen-ID...</td>\n",
       "      <td>440</td>\n",
       "      <td>320</td>\n",
       "      <td>380</td>\n",
       "      <td>660</td>\n",
       "      <td>415</td>\n",
       "      <td>520</td>\n",
       "      <td>7.9</td>\n",
       "      <td>...</td>\n",
       "      <td>55</td>\n",
       "      <td>570</td>\n",
       "      <td>4261</td>\n",
       "      <td>1809</td>\n",
       "      <td>1568</td>\n",
       "      <td>2771</td>\n",
       "      <td>2300</td>\n",
       "      <td>447</td>\n",
       "      <td>385</td>\n",
       "      <td>5</td>\n",
       "    </tr>\n",
       "  </tbody>\n",
       "</table>\n",
       "<p>5 rows × 27 columns</p>\n",
       "</div>"
      ],
      "text/plain": [
       "     id       Brand                                               link  \\\n",
       "0  1647     Genesis  https://ev-database.org/car/1647/Genesis-GV60-...   \n",
       "1  1493    Mercedes  https://ev-database.org/car/1493/Mercedes-EQB-...   \n",
       "2  1229     Porsche  https://ev-database.org/car/1229/Porsche-Tayca...   \n",
       "3  1252         BMW   https://ev-database.org/car/1252/BMW-i4-eDrive40   \n",
       "4  1534  Volkswagen  https://ev-database.org/car/1534/Volkswagen-ID...   \n",
       "\n",
       "   City - Cold Weather  Highway - Cold Weather  Combined - Cold Weather  \\\n",
       "0                  390                     275                      330   \n",
       "1                  330                     235                      280   \n",
       "2                  400                     305                      350   \n",
       "3                  445                     340                      390   \n",
       "4                  440                     320                      380   \n",
       "\n",
       "   City - Mild Weather  Highway - Mild Weather  Combined - Mild Weather  \\\n",
       "0                  575                     355                      445   \n",
       "1                  480                     300                      375   \n",
       "2                  580                     385                      470   \n",
       "3                  670                     440                      540   \n",
       "4                  660                     415                      520   \n",
       "\n",
       "   Acceleration 0 - 100 km/h  ...  Charge Speed  Fastcharge Speed  Length  \\\n",
       "0                        7.8  ...            49              1020    4515   \n",
       "1                        6.2  ...            46               470    4684   \n",
       "2                        3.2  ...            46              1020    4963   \n",
       "3                        5.7  ...            54               730    4783   \n",
       "4                        7.9  ...            55               570    4261   \n",
       "\n",
       "   Width Height  Wheelbase  Gross Vehicle Weight (GVWR)  Max. Payload  \\\n",
       "0   1890   1580       2900                         2495           595   \n",
       "1   1834   1701       2829                         2580           480   \n",
       "2   1966   1381       2900                         2880           575   \n",
       "3   1852   1448       2856                         2605           555   \n",
       "4   1809   1568       2771                         2300           447   \n",
       "\n",
       "   Cargo Volume  Seats  \n",
       "0           432      5  \n",
       "1           495      7  \n",
       "2           366      4  \n",
       "3           470      5  \n",
       "4           385      5  \n",
       "\n",
       "[5 rows x 27 columns]"
      ]
     },
     "execution_count": 3,
     "metadata": {},
     "output_type": "execute_result"
    }
   ],
   "source": [
    "data=pd.read_csv('evdataset.csv')\n",
    "data.head()"
   ]
  },
  {
   "cell_type": "code",
   "execution_count": 4,
   "id": "01bf4836-4cac-430c-bdad-76186d405805",
   "metadata": {},
   "outputs": [
    {
     "data": {
      "text/plain": [
       "Index(['id', 'Brand', 'link', 'City - Cold Weather', 'Highway - Cold Weather',\n",
       "       'Combined - Cold Weather', 'City - Mild Weather',\n",
       "       'Highway - Mild Weather', 'Combined - Mild Weather',\n",
       "       'Acceleration 0 - 100 km/h', 'Top Speed', 'Electric Range',\n",
       "       'Total Power', 'Total Torque', 'Drive', 'Battery Capacity',\n",
       "       'Charge Power', 'Charge Speed', 'Fastcharge Speed', 'Length', 'Width',\n",
       "       'Height', 'Wheelbase', 'Gross Vehicle Weight (GVWR)', 'Max. Payload',\n",
       "       'Cargo Volume', 'Seats'],\n",
       "      dtype='object')"
      ]
     },
     "execution_count": 4,
     "metadata": {},
     "output_type": "execute_result"
    }
   ],
   "source": [
    "data.columns"
   ]
  },
  {
   "cell_type": "code",
   "execution_count": 5,
   "id": "569ae9b1-f52b-425e-9051-828bcb7501fc",
   "metadata": {},
   "outputs": [
    {
     "name": "stdout",
     "output_type": "stream",
     "text": [
      "<class 'pandas.core.frame.DataFrame'>\n",
      "RangeIndex: 194 entries, 0 to 193\n",
      "Data columns (total 27 columns):\n",
      " #   Column                       Non-Null Count  Dtype  \n",
      "---  ------                       --------------  -----  \n",
      " 0   id                           194 non-null    int64  \n",
      " 1   Brand                        194 non-null    object \n",
      " 2   link                         194 non-null    object \n",
      " 3   City - Cold Weather          194 non-null    int64  \n",
      " 4   Highway - Cold Weather       194 non-null    int64  \n",
      " 5   Combined - Cold Weather      194 non-null    int64  \n",
      " 6   City - Mild Weather          194 non-null    int64  \n",
      " 7   Highway - Mild Weather       194 non-null    int64  \n",
      " 8   Combined - Mild Weather      194 non-null    int64  \n",
      " 9   Acceleration 0 - 100 km/h    194 non-null    float64\n",
      " 10  Top Speed                    194 non-null    int64  \n",
      " 11  Electric Range               194 non-null    int64  \n",
      " 12  Total Power                  194 non-null    int64  \n",
      " 13  Total Torque                 194 non-null    int64  \n",
      " 14  Drive                        194 non-null    object \n",
      " 15  Battery Capacity             194 non-null    float64\n",
      " 16  Charge Power                 194 non-null    float64\n",
      " 17  Charge Speed                 194 non-null    int64  \n",
      " 18  Fastcharge Speed             194 non-null    int64  \n",
      " 19  Length                       194 non-null    int64  \n",
      " 20  Width                        194 non-null    int64  \n",
      " 21  Height                       194 non-null    int64  \n",
      " 22  Wheelbase                    194 non-null    int64  \n",
      " 23  Gross Vehicle Weight (GVWR)  194 non-null    int64  \n",
      " 24  Max. Payload                 194 non-null    int64  \n",
      " 25  Cargo Volume                 194 non-null    int64  \n",
      " 26  Seats                        194 non-null    int64  \n",
      "dtypes: float64(3), int64(21), object(3)\n",
      "memory usage: 41.1+ KB\n"
     ]
    }
   ],
   "source": [
    "data.info()"
   ]
  },
  {
   "cell_type": "code",
   "execution_count": 6,
   "id": "5bce8c26-16fd-46c7-9c67-548600a73bcd",
   "metadata": {},
   "outputs": [
    {
     "data": {
      "text/plain": [
       "id                             0\n",
       "Brand                          0\n",
       "link                           0\n",
       "City - Cold Weather            0\n",
       "Highway - Cold Weather         0\n",
       "Combined - Cold Weather        0\n",
       "City - Mild Weather            0\n",
       "Highway - Mild Weather         0\n",
       "Combined - Mild Weather        0\n",
       "Acceleration 0 - 100 km/h      0\n",
       "Top Speed                      0\n",
       "Electric Range                 0\n",
       "Total Power                    0\n",
       "Total Torque                   0\n",
       "Drive                          0\n",
       "Battery Capacity               0\n",
       "Charge Power                   0\n",
       "Charge Speed                   0\n",
       "Fastcharge Speed               0\n",
       "Length                         0\n",
       "Width                          0\n",
       "Height                         0\n",
       "Wheelbase                      0\n",
       "Gross Vehicle Weight (GVWR)    0\n",
       "Max. Payload                   0\n",
       "Cargo Volume                   0\n",
       "Seats                          0\n",
       "dtype: int64"
      ]
     },
     "execution_count": 6,
     "metadata": {},
     "output_type": "execute_result"
    }
   ],
   "source": [
    "data.shape\n",
    "data.isnull().sum()"
   ]
  },
  {
   "cell_type": "code",
   "execution_count": 7,
   "id": "6fe54c7e-81e0-4a67-8737-96469426db76",
   "metadata": {},
   "outputs": [
    {
     "data": {
      "text/plain": [
       "id                               int64\n",
       "Brand                           object\n",
       "link                            object\n",
       "City - Cold Weather              int64\n",
       "Highway - Cold Weather           int64\n",
       "Combined - Cold Weather          int64\n",
       "City - Mild Weather              int64\n",
       "Highway - Mild Weather           int64\n",
       "Combined - Mild Weather          int64\n",
       "Acceleration 0 - 100 km/h      float64\n",
       "Top Speed                        int64\n",
       "Electric Range                   int64\n",
       "Total Power                      int64\n",
       "Total Torque                     int64\n",
       "Drive                           object\n",
       "Battery Capacity               float64\n",
       "Charge Power                   float64\n",
       "Charge Speed                     int64\n",
       "Fastcharge Speed                 int64\n",
       "Length                           int64\n",
       "Width                            int64\n",
       "Height                           int64\n",
       "Wheelbase                        int64\n",
       "Gross Vehicle Weight (GVWR)      int64\n",
       "Max. Payload                     int64\n",
       "Cargo Volume                     int64\n",
       "Seats                            int64\n",
       "dtype: object"
      ]
     },
     "execution_count": 7,
     "metadata": {},
     "output_type": "execute_result"
    }
   ],
   "source": [
    "data.dtypes"
   ]
  },
  {
   "cell_type": "code",
   "execution_count": 8,
   "id": "ed43c01e-ae84-4c34-81d1-53801c3e5724",
   "metadata": {},
   "outputs": [
    {
     "data": {
      "text/plain": [
       "id                             194\n",
       "Brand                           34\n",
       "link                           194\n",
       "City - Cold Weather             64\n",
       "Highway - Cold Weather          52\n",
       "Combined - Cold Weather         57\n",
       "City - Mild Weather             82\n",
       "Highway - Mild Weather          59\n",
       "Combined - Mild Weather         67\n",
       "Acceleration 0 - 100 km/h       72\n",
       "Top Speed                       29\n",
       "Electric Range                  66\n",
       "Total Power                     65\n",
       "Total Torque                    69\n",
       "Drive                            3\n",
       "Battery Capacity                49\n",
       "Charge Power                     5\n",
       "Charge Speed                    37\n",
       "Fastcharge Speed                69\n",
       "Length                          74\n",
       "Width                           51\n",
       "Height                          76\n",
       "Wheelbase                       54\n",
       "Gross Vehicle Weight (GVWR)    122\n",
       "Max. Payload                   110\n",
       "Cargo Volume                    74\n",
       "Seats                            5\n",
       "dtype: int64"
      ]
     },
     "execution_count": 8,
     "metadata": {},
     "output_type": "execute_result"
    }
   ],
   "source": [
    "data.nunique()"
   ]
  },
  {
   "cell_type": "code",
   "execution_count": 10,
   "id": "c80898b2",
   "metadata": {
    "colab": {
     "base_uri": "https://localhost:8080/"
    },
    "id": "c80898b2",
    "outputId": "4f66ca6f-1308-4988-f809-836f5abf0742"
   },
   "outputs": [
    {
     "data": {
      "text/plain": [
       "id                             194\n",
       "Brand                           34\n",
       "link                           194\n",
       "City - Cold Weather             64\n",
       "Highway - Cold Weather          52\n",
       "Combined - Cold Weather         57\n",
       "City - Mild Weather             82\n",
       "Highway - Mild Weather          59\n",
       "Combined - Mild Weather         67\n",
       "Acceleration 0 - 100 km/h       72\n",
       "Top Speed                       29\n",
       "Electric Range                  66\n",
       "Total Power                     65\n",
       "Total Torque                    69\n",
       "Drive                            3\n",
       "Battery Capacity                49\n",
       "Charge Power                     5\n",
       "Charge Speed                    37\n",
       "Fastcharge Speed                69\n",
       "Length                          74\n",
       "Width                           51\n",
       "Height                          76\n",
       "Wheelbase                       54\n",
       "Gross Vehicle Weight (GVWR)    122\n",
       "Max. Payload                   110\n",
       "Cargo Volume                    74\n",
       "Seats                            5\n",
       "dtype: int64"
      ]
     },
     "execution_count": 10,
     "metadata": {},
     "output_type": "execute_result"
    }
   ],
   "source": [
    "#Checking for null values\n",
    "\n",
    "data.nunique()"
   ]
  },
  {
   "cell_type": "code",
   "execution_count": 11,
   "id": "b101f699",
   "metadata": {
    "colab": {
     "base_uri": "https://localhost:8080/"
    },
    "id": "b101f699",
    "outputId": "dd386428-b94c-4be2-9235-fbb9859b5b54"
   },
   "outputs": [
    {
     "data": {
      "text/plain": [
       "(194, 27)"
      ]
     },
     "execution_count": 11,
     "metadata": {},
     "output_type": "execute_result"
    }
   ],
   "source": [
    "data.shape"
   ]
  },
  {
   "cell_type": "code",
   "execution_count": 12,
   "id": "52438235",
   "metadata": {
    "id": "52438235"
   },
   "outputs": [],
   "source": [
    "#Converting categorical data into numerical data\n",
    "\n",
    "data.replace({'Drive':{'Rear':2,'Front':0,'AWD':1}},inplace=True)"
   ]
  },
  {
   "cell_type": "code",
   "execution_count": 13,
   "id": "7ebb3b34",
   "metadata": {
    "colab": {
     "base_uri": "https://localhost:8080/",
     "height": 308
    },
    "id": "7ebb3b34",
    "outputId": "9056e88f-5ab0-44b5-ac93-e3c807afd613"
   },
   "outputs": [
    {
     "data": {
      "text/html": [
       "<div>\n",
       "<style scoped>\n",
       "    .dataframe tbody tr th:only-of-type {\n",
       "        vertical-align: middle;\n",
       "    }\n",
       "\n",
       "    .dataframe tbody tr th {\n",
       "        vertical-align: top;\n",
       "    }\n",
       "\n",
       "    .dataframe thead th {\n",
       "        text-align: right;\n",
       "    }\n",
       "</style>\n",
       "<table border=\"1\" class=\"dataframe\">\n",
       "  <thead>\n",
       "    <tr style=\"text-align: right;\">\n",
       "      <th></th>\n",
       "      <th>City - Cold Weather</th>\n",
       "      <th>Highway - Cold Weather</th>\n",
       "      <th>Combined - Cold Weather</th>\n",
       "      <th>City - Mild Weather</th>\n",
       "      <th>Highway - Mild Weather</th>\n",
       "      <th>Combined - Mild Weather</th>\n",
       "      <th>Acceleration 0 - 100 km/h</th>\n",
       "      <th>Top Speed</th>\n",
       "      <th>Electric Range</th>\n",
       "      <th>Total Power</th>\n",
       "      <th>...</th>\n",
       "      <th>Drive</th>\n",
       "      <th>Battery Capacity</th>\n",
       "      <th>Charge Power</th>\n",
       "      <th>Charge Speed</th>\n",
       "      <th>Fastcharge Speed</th>\n",
       "      <th>Gross Vehicle Weight (GVWR)</th>\n",
       "      <th>Max. Payload</th>\n",
       "      <th>Cargo Volume</th>\n",
       "      <th>Width</th>\n",
       "      <th>Length</th>\n",
       "    </tr>\n",
       "  </thead>\n",
       "  <tbody>\n",
       "    <tr>\n",
       "      <th>0</th>\n",
       "      <td>390</td>\n",
       "      <td>275</td>\n",
       "      <td>330</td>\n",
       "      <td>575</td>\n",
       "      <td>355</td>\n",
       "      <td>445</td>\n",
       "      <td>7.8</td>\n",
       "      <td>185</td>\n",
       "      <td>390</td>\n",
       "      <td>168</td>\n",
       "      <td>...</td>\n",
       "      <td>2</td>\n",
       "      <td>77.4</td>\n",
       "      <td>11.0</td>\n",
       "      <td>49</td>\n",
       "      <td>1020</td>\n",
       "      <td>2495</td>\n",
       "      <td>595</td>\n",
       "      <td>432</td>\n",
       "      <td>1890</td>\n",
       "      <td>4515</td>\n",
       "    </tr>\n",
       "    <tr>\n",
       "      <th>1</th>\n",
       "      <td>330</td>\n",
       "      <td>235</td>\n",
       "      <td>280</td>\n",
       "      <td>480</td>\n",
       "      <td>300</td>\n",
       "      <td>375</td>\n",
       "      <td>6.2</td>\n",
       "      <td>160</td>\n",
       "      <td>330</td>\n",
       "      <td>215</td>\n",
       "      <td>...</td>\n",
       "      <td>1</td>\n",
       "      <td>69.7</td>\n",
       "      <td>11.0</td>\n",
       "      <td>46</td>\n",
       "      <td>470</td>\n",
       "      <td>2580</td>\n",
       "      <td>480</td>\n",
       "      <td>495</td>\n",
       "      <td>1834</td>\n",
       "      <td>4684</td>\n",
       "    </tr>\n",
       "    <tr>\n",
       "      <th>2</th>\n",
       "      <td>400</td>\n",
       "      <td>305</td>\n",
       "      <td>350</td>\n",
       "      <td>580</td>\n",
       "      <td>385</td>\n",
       "      <td>470</td>\n",
       "      <td>3.2</td>\n",
       "      <td>260</td>\n",
       "      <td>415</td>\n",
       "      <td>500</td>\n",
       "      <td>...</td>\n",
       "      <td>1</td>\n",
       "      <td>93.4</td>\n",
       "      <td>11.0</td>\n",
       "      <td>46</td>\n",
       "      <td>1020</td>\n",
       "      <td>2880</td>\n",
       "      <td>575</td>\n",
       "      <td>366</td>\n",
       "      <td>1966</td>\n",
       "      <td>4963</td>\n",
       "    </tr>\n",
       "    <tr>\n",
       "      <th>3</th>\n",
       "      <td>445</td>\n",
       "      <td>340</td>\n",
       "      <td>390</td>\n",
       "      <td>670</td>\n",
       "      <td>440</td>\n",
       "      <td>540</td>\n",
       "      <td>5.7</td>\n",
       "      <td>190</td>\n",
       "      <td>470</td>\n",
       "      <td>250</td>\n",
       "      <td>...</td>\n",
       "      <td>2</td>\n",
       "      <td>83.9</td>\n",
       "      <td>11.0</td>\n",
       "      <td>54</td>\n",
       "      <td>730</td>\n",
       "      <td>2605</td>\n",
       "      <td>555</td>\n",
       "      <td>470</td>\n",
       "      <td>1852</td>\n",
       "      <td>4783</td>\n",
       "    </tr>\n",
       "    <tr>\n",
       "      <th>4</th>\n",
       "      <td>440</td>\n",
       "      <td>320</td>\n",
       "      <td>380</td>\n",
       "      <td>660</td>\n",
       "      <td>415</td>\n",
       "      <td>520</td>\n",
       "      <td>7.9</td>\n",
       "      <td>160</td>\n",
       "      <td>450</td>\n",
       "      <td>150</td>\n",
       "      <td>...</td>\n",
       "      <td>2</td>\n",
       "      <td>82.0</td>\n",
       "      <td>11.0</td>\n",
       "      <td>55</td>\n",
       "      <td>570</td>\n",
       "      <td>2300</td>\n",
       "      <td>447</td>\n",
       "      <td>385</td>\n",
       "      <td>1809</td>\n",
       "      <td>4261</td>\n",
       "    </tr>\n",
       "  </tbody>\n",
       "</table>\n",
       "<p>5 rows × 21 columns</p>\n",
       "</div>"
      ],
      "text/plain": [
       "   City - Cold Weather  Highway - Cold Weather  Combined - Cold Weather  \\\n",
       "0                  390                     275                      330   \n",
       "1                  330                     235                      280   \n",
       "2                  400                     305                      350   \n",
       "3                  445                     340                      390   \n",
       "4                  440                     320                      380   \n",
       "\n",
       "   City - Mild Weather  Highway - Mild Weather  Combined - Mild Weather  \\\n",
       "0                  575                     355                      445   \n",
       "1                  480                     300                      375   \n",
       "2                  580                     385                      470   \n",
       "3                  670                     440                      540   \n",
       "4                  660                     415                      520   \n",
       "\n",
       "   Acceleration 0 - 100 km/h  Top Speed  Electric Range  Total Power  ...  \\\n",
       "0                        7.8        185             390          168  ...   \n",
       "1                        6.2        160             330          215  ...   \n",
       "2                        3.2        260             415          500  ...   \n",
       "3                        5.7        190             470          250  ...   \n",
       "4                        7.9        160             450          150  ...   \n",
       "\n",
       "   Drive  Battery Capacity  Charge Power  Charge Speed  Fastcharge Speed  \\\n",
       "0      2              77.4          11.0            49              1020   \n",
       "1      1              69.7          11.0            46               470   \n",
       "2      1              93.4          11.0            46              1020   \n",
       "3      2              83.9          11.0            54               730   \n",
       "4      2              82.0          11.0            55               570   \n",
       "\n",
       "   Gross Vehicle Weight (GVWR)  Max. Payload  Cargo Volume  Width  Length  \n",
       "0                         2495           595           432   1890    4515  \n",
       "1                         2580           480           495   1834    4684  \n",
       "2                         2880           575           366   1966    4963  \n",
       "3                         2605           555           470   1852    4783  \n",
       "4                         2300           447           385   1809    4261  \n",
       "\n",
       "[5 rows x 21 columns]"
      ]
     },
     "execution_count": 13,
     "metadata": {},
     "output_type": "execute_result"
    }
   ],
   "source": [
    "#Dropping few features\n",
    "\n",
    "cols_to_use=['City - Cold Weather','Highway - Cold Weather','Combined - Cold Weather','City - Mild Weather','Highway - Mild Weather','Combined - Mild Weather','Acceleration 0 - 100 km/h','Top Speed','Electric Range','Total Power','Total Torque','Drive','Battery Capacity','Charge Power','Charge Speed','Fastcharge Speed','Gross Vehicle Weight (GVWR)','Max. Payload','Cargo Volume','Width','Length']\n",
    "data=data[cols_to_use]\n",
    "data.head()"
   ]
  },
  {
   "cell_type": "code",
   "execution_count": 14,
   "id": "64534493",
   "metadata": {
    "colab": {
     "base_uri": "https://localhost:8080/"
    },
    "id": "64534493",
    "outputId": "f6cdb7be-d8a6-4c02-fafb-f72952a20d13"
   },
   "outputs": [
    {
     "data": {
      "text/plain": [
       "City - Cold Weather            0\n",
       "Highway - Cold Weather         0\n",
       "Combined - Cold Weather        0\n",
       "City - Mild Weather            0\n",
       "Highway - Mild Weather         0\n",
       "Combined - Mild Weather        0\n",
       "Acceleration 0 - 100 km/h      0\n",
       "Top Speed                      0\n",
       "Electric Range                 0\n",
       "Total Power                    0\n",
       "Total Torque                   0\n",
       "Drive                          0\n",
       "Battery Capacity               0\n",
       "Charge Power                   0\n",
       "Charge Speed                   0\n",
       "Fastcharge Speed               0\n",
       "Gross Vehicle Weight (GVWR)    0\n",
       "Max. Payload                   0\n",
       "Cargo Volume                   0\n",
       "Width                          0\n",
       "Length                         0\n",
       "dtype: int64"
      ]
     },
     "execution_count": 14,
     "metadata": {},
     "output_type": "execute_result"
    }
   ],
   "source": [
    "data.isna().sum()"
   ]
  },
  {
   "cell_type": "code",
   "execution_count": 15,
   "id": "46cee634",
   "metadata": {
    "id": "46cee634"
   },
   "outputs": [],
   "source": [
    "x=data.drop(['Electric Range','City - Cold Weather','Highway - Cold Weather','Combined - Cold Weather','City - Mild Weather','Highway - Mild Weather',\n",
    "'Combined - Mild Weather'],axis=1)\n",
    "y=data[['Electric Range','City - Cold Weather','Highway - Cold Weather','Combined - Cold Weather','City - Mild Weather','Highway - Mild Weather',\n",
    "'Combined - Mild Weather']]"
   ]
  },
  {
   "cell_type": "code",
   "execution_count": 16,
   "id": "9c85c329",
   "metadata": {
    "colab": {
     "base_uri": "https://localhost:8080/"
    },
    "id": "9c85c329",
    "outputId": "87ff3dca-83d6-43e2-c672-e0582e52c5bc"
   },
   "outputs": [
    {
     "data": {
      "text/plain": [
       "(194, 14)"
      ]
     },
     "execution_count": 16,
     "metadata": {},
     "output_type": "execute_result"
    }
   ],
   "source": [
    "x.shape"
   ]
  },
  {
   "cell_type": "code",
   "execution_count": 17,
   "id": "e7821f10",
   "metadata": {
    "colab": {
     "base_uri": "https://localhost:8080/",
     "height": 441
    },
    "id": "e7821f10",
    "outputId": "fcf7e0c7-ed0e-4685-8b74-918a969cf0b4"
   },
   "outputs": [
    {
     "data": {
      "text/html": [
       "<div>\n",
       "<style scoped>\n",
       "    .dataframe tbody tr th:only-of-type {\n",
       "        vertical-align: middle;\n",
       "    }\n",
       "\n",
       "    .dataframe tbody tr th {\n",
       "        vertical-align: top;\n",
       "    }\n",
       "\n",
       "    .dataframe thead th {\n",
       "        text-align: right;\n",
       "    }\n",
       "</style>\n",
       "<table border=\"1\" class=\"dataframe\">\n",
       "  <thead>\n",
       "    <tr style=\"text-align: right;\">\n",
       "      <th></th>\n",
       "      <th>Acceleration 0 - 100 km/h</th>\n",
       "      <th>Top Speed</th>\n",
       "      <th>Total Power</th>\n",
       "      <th>Total Torque</th>\n",
       "      <th>Drive</th>\n",
       "      <th>Battery Capacity</th>\n",
       "      <th>Charge Power</th>\n",
       "      <th>Charge Speed</th>\n",
       "      <th>Fastcharge Speed</th>\n",
       "      <th>Gross Vehicle Weight (GVWR)</th>\n",
       "      <th>Max. Payload</th>\n",
       "      <th>Cargo Volume</th>\n",
       "      <th>Width</th>\n",
       "      <th>Length</th>\n",
       "    </tr>\n",
       "  </thead>\n",
       "  <tbody>\n",
       "    <tr>\n",
       "      <th>0</th>\n",
       "      <td>7.8</td>\n",
       "      <td>185</td>\n",
       "      <td>168</td>\n",
       "      <td>350</td>\n",
       "      <td>2</td>\n",
       "      <td>77.4</td>\n",
       "      <td>11.0</td>\n",
       "      <td>49</td>\n",
       "      <td>1020</td>\n",
       "      <td>2495</td>\n",
       "      <td>595</td>\n",
       "      <td>432</td>\n",
       "      <td>1890</td>\n",
       "      <td>4515</td>\n",
       "    </tr>\n",
       "    <tr>\n",
       "      <th>1</th>\n",
       "      <td>6.2</td>\n",
       "      <td>160</td>\n",
       "      <td>215</td>\n",
       "      <td>520</td>\n",
       "      <td>1</td>\n",
       "      <td>69.7</td>\n",
       "      <td>11.0</td>\n",
       "      <td>46</td>\n",
       "      <td>470</td>\n",
       "      <td>2580</td>\n",
       "      <td>480</td>\n",
       "      <td>495</td>\n",
       "      <td>1834</td>\n",
       "      <td>4684</td>\n",
       "    </tr>\n",
       "    <tr>\n",
       "      <th>2</th>\n",
       "      <td>3.2</td>\n",
       "      <td>260</td>\n",
       "      <td>500</td>\n",
       "      <td>850</td>\n",
       "      <td>1</td>\n",
       "      <td>93.4</td>\n",
       "      <td>11.0</td>\n",
       "      <td>46</td>\n",
       "      <td>1020</td>\n",
       "      <td>2880</td>\n",
       "      <td>575</td>\n",
       "      <td>366</td>\n",
       "      <td>1966</td>\n",
       "      <td>4963</td>\n",
       "    </tr>\n",
       "    <tr>\n",
       "      <th>3</th>\n",
       "      <td>5.7</td>\n",
       "      <td>190</td>\n",
       "      <td>250</td>\n",
       "      <td>430</td>\n",
       "      <td>2</td>\n",
       "      <td>83.9</td>\n",
       "      <td>11.0</td>\n",
       "      <td>54</td>\n",
       "      <td>730</td>\n",
       "      <td>2605</td>\n",
       "      <td>555</td>\n",
       "      <td>470</td>\n",
       "      <td>1852</td>\n",
       "      <td>4783</td>\n",
       "    </tr>\n",
       "    <tr>\n",
       "      <th>4</th>\n",
       "      <td>7.9</td>\n",
       "      <td>160</td>\n",
       "      <td>150</td>\n",
       "      <td>310</td>\n",
       "      <td>2</td>\n",
       "      <td>82.0</td>\n",
       "      <td>11.0</td>\n",
       "      <td>55</td>\n",
       "      <td>570</td>\n",
       "      <td>2300</td>\n",
       "      <td>447</td>\n",
       "      <td>385</td>\n",
       "      <td>1809</td>\n",
       "      <td>4261</td>\n",
       "    </tr>\n",
       "    <tr>\n",
       "      <th>...</th>\n",
       "      <td>...</td>\n",
       "      <td>...</td>\n",
       "      <td>...</td>\n",
       "      <td>...</td>\n",
       "      <td>...</td>\n",
       "      <td>...</td>\n",
       "      <td>...</td>\n",
       "      <td>...</td>\n",
       "      <td>...</td>\n",
       "      <td>...</td>\n",
       "      <td>...</td>\n",
       "      <td>...</td>\n",
       "      <td>...</td>\n",
       "      <td>...</td>\n",
       "    </tr>\n",
       "    <tr>\n",
       "      <th>189</th>\n",
       "      <td>2.8</td>\n",
       "      <td>260</td>\n",
       "      <td>560</td>\n",
       "      <td>1050</td>\n",
       "      <td>1</td>\n",
       "      <td>93.4</td>\n",
       "      <td>11.0</td>\n",
       "      <td>45</td>\n",
       "      <td>980</td>\n",
       "      <td>2870</td>\n",
       "      <td>575</td>\n",
       "      <td>366</td>\n",
       "      <td>1966</td>\n",
       "      <td>4963</td>\n",
       "    </tr>\n",
       "    <tr>\n",
       "      <th>190</th>\n",
       "      <td>7.9</td>\n",
       "      <td>160</td>\n",
       "      <td>150</td>\n",
       "      <td>310</td>\n",
       "      <td>2</td>\n",
       "      <td>82.0</td>\n",
       "      <td>11.0</td>\n",
       "      <td>55</td>\n",
       "      <td>570</td>\n",
       "      <td>2280</td>\n",
       "      <td>420</td>\n",
       "      <td>385</td>\n",
       "      <td>1809</td>\n",
       "      <td>4261</td>\n",
       "    </tr>\n",
       "    <tr>\n",
       "      <th>191</th>\n",
       "      <td>11.7</td>\n",
       "      <td>135</td>\n",
       "      <td>100</td>\n",
       "      <td>260</td>\n",
       "      <td>0</td>\n",
       "      <td>50.0</td>\n",
       "      <td>7.4</td>\n",
       "      <td>27</td>\n",
       "      <td>310</td>\n",
       "      <td>2440</td>\n",
       "      <td>639</td>\n",
       "      <td>806</td>\n",
       "      <td>1921</td>\n",
       "      <td>4753</td>\n",
       "    </tr>\n",
       "    <tr>\n",
       "      <th>192</th>\n",
       "      <td>6.2</td>\n",
       "      <td>180</td>\n",
       "      <td>220</td>\n",
       "      <td>460</td>\n",
       "      <td>1</td>\n",
       "      <td>82.0</td>\n",
       "      <td>11.0</td>\n",
       "      <td>49</td>\n",
       "      <td>500</td>\n",
       "      <td>2715</td>\n",
       "      <td>575</td>\n",
       "      <td>535</td>\n",
       "      <td>1865</td>\n",
       "      <td>4588</td>\n",
       "    </tr>\n",
       "    <tr>\n",
       "      <th>193</th>\n",
       "      <td>14.3</td>\n",
       "      <td>130</td>\n",
       "      <td>100</td>\n",
       "      <td>260</td>\n",
       "      <td>0</td>\n",
       "      <td>75.0</td>\n",
       "      <td>7.4</td>\n",
       "      <td>25</td>\n",
       "      <td>290</td>\n",
       "      <td>3100</td>\n",
       "      <td>1044</td>\n",
       "      <td>603</td>\n",
       "      <td>1920</td>\n",
       "      <td>4956</td>\n",
       "    </tr>\n",
       "  </tbody>\n",
       "</table>\n",
       "<p>194 rows × 14 columns</p>\n",
       "</div>"
      ],
      "text/plain": [
       "     Acceleration 0 - 100 km/h  Top Speed  Total Power  Total Torque  Drive  \\\n",
       "0                          7.8        185          168           350      2   \n",
       "1                          6.2        160          215           520      1   \n",
       "2                          3.2        260          500           850      1   \n",
       "3                          5.7        190          250           430      2   \n",
       "4                          7.9        160          150           310      2   \n",
       "..                         ...        ...          ...           ...    ...   \n",
       "189                        2.8        260          560          1050      1   \n",
       "190                        7.9        160          150           310      2   \n",
       "191                       11.7        135          100           260      0   \n",
       "192                        6.2        180          220           460      1   \n",
       "193                       14.3        130          100           260      0   \n",
       "\n",
       "     Battery Capacity  Charge Power  Charge Speed  Fastcharge Speed  \\\n",
       "0                77.4          11.0            49              1020   \n",
       "1                69.7          11.0            46               470   \n",
       "2                93.4          11.0            46              1020   \n",
       "3                83.9          11.0            54               730   \n",
       "4                82.0          11.0            55               570   \n",
       "..                ...           ...           ...               ...   \n",
       "189              93.4          11.0            45               980   \n",
       "190              82.0          11.0            55               570   \n",
       "191              50.0           7.4            27               310   \n",
       "192              82.0          11.0            49               500   \n",
       "193              75.0           7.4            25               290   \n",
       "\n",
       "     Gross Vehicle Weight (GVWR)  Max. Payload  Cargo Volume  Width  Length  \n",
       "0                           2495           595           432   1890    4515  \n",
       "1                           2580           480           495   1834    4684  \n",
       "2                           2880           575           366   1966    4963  \n",
       "3                           2605           555           470   1852    4783  \n",
       "4                           2300           447           385   1809    4261  \n",
       "..                           ...           ...           ...    ...     ...  \n",
       "189                         2870           575           366   1966    4963  \n",
       "190                         2280           420           385   1809    4261  \n",
       "191                         2440           639           806   1921    4753  \n",
       "192                         2715           575           535   1865    4588  \n",
       "193                         3100          1044           603   1920    4956  \n",
       "\n",
       "[194 rows x 14 columns]"
      ]
     },
     "execution_count": 17,
     "metadata": {},
     "output_type": "execute_result"
    }
   ],
   "source": [
    "x"
   ]
  },
  {
   "cell_type": "code",
   "execution_count": 18,
   "id": "d972f5ae",
   "metadata": {
    "id": "d972f5ae"
   },
   "outputs": [],
   "source": [
    "#Normalizing the given data\n",
    "\n",
    "from sklearn import preprocessing\n",
    "x=preprocessing.normalize(x)"
   ]
  },
  {
   "cell_type": "code",
   "execution_count": 19,
   "id": "8dfe3296",
   "metadata": {
    "colab": {
     "base_uri": "https://localhost:8080/"
    },
    "id": "8dfe3296",
    "outputId": "b6ad447a-c17e-43a5-beb7-dfc51b8fa06c"
   },
   "outputs": [
    {
     "data": {
      "text/plain": [
       "array([[1.37978718e-03, 3.27257217e-02, 2.97184932e-02, ...,\n",
       "        7.64189825e-02, 3.34333049e-01, 7.98684505e-01],\n",
       "       [1.07919159e-03, 2.78501057e-02, 3.74235795e-02, ...,\n",
       "        8.61612644e-02, 3.19231836e-01, 8.15311844e-01],\n",
       "       [5.10145768e-04, 4.14493436e-02, 7.97102762e-02, ...,\n",
       "        5.83479222e-02, 3.13420806e-01, 7.91204202e-01],\n",
       "       ...,\n",
       "       [2.02180966e-03, 2.33285730e-02, 1.72804244e-02, ...,\n",
       "        1.39280221e-01, 3.31956953e-01, 8.21338572e-01],\n",
       "       [1.07817561e-03, 3.13018724e-02, 3.82578441e-02, ...,\n",
       "        9.30361209e-02, 3.24322178e-01, 7.97849949e-01],\n",
       "       [2.27538052e-03, 2.06852775e-02, 1.59117519e-02, ...,\n",
       "        9.59478640e-02, 3.05505637e-01, 7.88586424e-01]])"
      ]
     },
     "execution_count": 19,
     "metadata": {},
     "output_type": "execute_result"
    }
   ],
   "source": [
    "x"
   ]
  },
  {
   "cell_type": "code",
   "execution_count": 20,
   "id": "bcf93720",
   "metadata": {
    "colab": {
     "base_uri": "https://localhost:8080/",
     "height": 424
    },
    "id": "bcf93720",
    "outputId": "19319a7f-2c55-40fa-d5fc-660c5de53473"
   },
   "outputs": [
    {
     "data": {
      "text/html": [
       "<div>\n",
       "<style scoped>\n",
       "    .dataframe tbody tr th:only-of-type {\n",
       "        vertical-align: middle;\n",
       "    }\n",
       "\n",
       "    .dataframe tbody tr th {\n",
       "        vertical-align: top;\n",
       "    }\n",
       "\n",
       "    .dataframe thead th {\n",
       "        text-align: right;\n",
       "    }\n",
       "</style>\n",
       "<table border=\"1\" class=\"dataframe\">\n",
       "  <thead>\n",
       "    <tr style=\"text-align: right;\">\n",
       "      <th></th>\n",
       "      <th>Electric Range</th>\n",
       "      <th>City - Cold Weather</th>\n",
       "      <th>Highway - Cold Weather</th>\n",
       "      <th>Combined - Cold Weather</th>\n",
       "      <th>City - Mild Weather</th>\n",
       "      <th>Highway - Mild Weather</th>\n",
       "      <th>Combined - Mild Weather</th>\n",
       "    </tr>\n",
       "  </thead>\n",
       "  <tbody>\n",
       "    <tr>\n",
       "      <th>0</th>\n",
       "      <td>390</td>\n",
       "      <td>390</td>\n",
       "      <td>275</td>\n",
       "      <td>330</td>\n",
       "      <td>575</td>\n",
       "      <td>355</td>\n",
       "      <td>445</td>\n",
       "    </tr>\n",
       "    <tr>\n",
       "      <th>1</th>\n",
       "      <td>330</td>\n",
       "      <td>330</td>\n",
       "      <td>235</td>\n",
       "      <td>280</td>\n",
       "      <td>480</td>\n",
       "      <td>300</td>\n",
       "      <td>375</td>\n",
       "    </tr>\n",
       "    <tr>\n",
       "      <th>2</th>\n",
       "      <td>415</td>\n",
       "      <td>400</td>\n",
       "      <td>305</td>\n",
       "      <td>350</td>\n",
       "      <td>580</td>\n",
       "      <td>385</td>\n",
       "      <td>470</td>\n",
       "    </tr>\n",
       "    <tr>\n",
       "      <th>3</th>\n",
       "      <td>470</td>\n",
       "      <td>445</td>\n",
       "      <td>340</td>\n",
       "      <td>390</td>\n",
       "      <td>670</td>\n",
       "      <td>440</td>\n",
       "      <td>540</td>\n",
       "    </tr>\n",
       "    <tr>\n",
       "      <th>4</th>\n",
       "      <td>450</td>\n",
       "      <td>440</td>\n",
       "      <td>320</td>\n",
       "      <td>380</td>\n",
       "      <td>660</td>\n",
       "      <td>415</td>\n",
       "      <td>520</td>\n",
       "    </tr>\n",
       "    <tr>\n",
       "      <th>...</th>\n",
       "      <td>...</td>\n",
       "      <td>...</td>\n",
       "      <td>...</td>\n",
       "      <td>...</td>\n",
       "      <td>...</td>\n",
       "      <td>...</td>\n",
       "      <td>...</td>\n",
       "    </tr>\n",
       "    <tr>\n",
       "      <th>189</th>\n",
       "      <td>400</td>\n",
       "      <td>390</td>\n",
       "      <td>290</td>\n",
       "      <td>340</td>\n",
       "      <td>560</td>\n",
       "      <td>370</td>\n",
       "      <td>450</td>\n",
       "    </tr>\n",
       "    <tr>\n",
       "      <th>190</th>\n",
       "      <td>450</td>\n",
       "      <td>440</td>\n",
       "      <td>320</td>\n",
       "      <td>380</td>\n",
       "      <td>660</td>\n",
       "      <td>415</td>\n",
       "      <td>515</td>\n",
       "    </tr>\n",
       "    <tr>\n",
       "      <th>191</th>\n",
       "      <td>195</td>\n",
       "      <td>210</td>\n",
       "      <td>140</td>\n",
       "      <td>170</td>\n",
       "      <td>295</td>\n",
       "      <td>170</td>\n",
       "      <td>220</td>\n",
       "    </tr>\n",
       "    <tr>\n",
       "      <th>192</th>\n",
       "      <td>400</td>\n",
       "      <td>395</td>\n",
       "      <td>290</td>\n",
       "      <td>340</td>\n",
       "      <td>580</td>\n",
       "      <td>370</td>\n",
       "      <td>460</td>\n",
       "    </tr>\n",
       "    <tr>\n",
       "      <th>193</th>\n",
       "      <td>265</td>\n",
       "      <td>285</td>\n",
       "      <td>185</td>\n",
       "      <td>230</td>\n",
       "      <td>395</td>\n",
       "      <td>230</td>\n",
       "      <td>295</td>\n",
       "    </tr>\n",
       "  </tbody>\n",
       "</table>\n",
       "<p>194 rows × 7 columns</p>\n",
       "</div>"
      ],
      "text/plain": [
       "     Electric Range  City - Cold Weather  Highway - Cold Weather  \\\n",
       "0               390                  390                     275   \n",
       "1               330                  330                     235   \n",
       "2               415                  400                     305   \n",
       "3               470                  445                     340   \n",
       "4               450                  440                     320   \n",
       "..              ...                  ...                     ...   \n",
       "189             400                  390                     290   \n",
       "190             450                  440                     320   \n",
       "191             195                  210                     140   \n",
       "192             400                  395                     290   \n",
       "193             265                  285                     185   \n",
       "\n",
       "     Combined - Cold Weather  City - Mild Weather  Highway - Mild Weather  \\\n",
       "0                        330                  575                     355   \n",
       "1                        280                  480                     300   \n",
       "2                        350                  580                     385   \n",
       "3                        390                  670                     440   \n",
       "4                        380                  660                     415   \n",
       "..                       ...                  ...                     ...   \n",
       "189                      340                  560                     370   \n",
       "190                      380                  660                     415   \n",
       "191                      170                  295                     170   \n",
       "192                      340                  580                     370   \n",
       "193                      230                  395                     230   \n",
       "\n",
       "     Combined - Mild Weather  \n",
       "0                        445  \n",
       "1                        375  \n",
       "2                        470  \n",
       "3                        540  \n",
       "4                        520  \n",
       "..                       ...  \n",
       "189                      450  \n",
       "190                      515  \n",
       "191                      220  \n",
       "192                      460  \n",
       "193                      295  \n",
       "\n",
       "[194 rows x 7 columns]"
      ]
     },
     "execution_count": 20,
     "metadata": {},
     "output_type": "execute_result"
    }
   ],
   "source": [
    "y"
   ]
  },
  {
   "cell_type": "code",
   "execution_count": 21,
   "id": "85ccc795",
   "metadata": {
    "id": "85ccc795"
   },
   "outputs": [],
   "source": [
    "from sklearn.model_selection import train_test_split\n",
    "X_train,X_test,Y_train,Y_test=train_test_split(x,y,test_size=0.2,random_state=1)"
   ]
  },
  {
   "cell_type": "code",
   "execution_count": 22,
   "id": "edf65676",
   "metadata": {
    "colab": {
     "base_uri": "https://localhost:8080/"
    },
    "id": "edf65676",
    "outputId": "e90d66f9-7463-49e2-e3ba-42525633a562"
   },
   "outputs": [
    {
     "name": "stdout",
     "output_type": "stream",
     "text": [
      "R2 for Training Data:  0.9835064447106875\n",
      "R2 for testing:  0.9807699956982461\n"
     ]
    }
   ],
   "source": [
    "#Using Linear Regression\n",
    "\n",
    "from sklearn.linear_model import LinearRegression\n",
    "reg=LinearRegression().fit(X_train,Y_train)\n",
    "#Model Evaluation (Regression Metrics)\n",
    "# Calculate the score for Training Data\n",
    "reg.score(X_train, Y_train)\n",
    "print(\"R2 for Training Data: \", reg.score(X_train, Y_train))\n",
    "reg.score(X_test, Y_test)\n",
    "print(\"R2 for testing: \",reg.score(X_test,Y_test))"
   ]
  },
  {
   "cell_type": "code",
   "execution_count": 23,
   "id": "tqytfLZOSWu6",
   "metadata": {
    "colab": {
     "base_uri": "https://localhost:8080/",
     "height": 927
    },
    "id": "tqytfLZOSWu6",
    "outputId": "b0194e33-8601-4f3f-b36f-758dfc2f93b3"
   },
   "outputs": [],
   "source": [
    "import matplotlib.pyplot as plt\n",
    "import numpy as np\n",
    "from sklearn.linear_model import LinearRegression\n",
    "\n",
    "# Assuming reg is your trained linear regression model\n",
    "\n",
    "# Fit the linear regression model\n",
    "reg = LinearRegression().fit(X_train, Y_train)\n",
    "\n",
    "# Predictions on the training and testing sets\n",
    "y_train_pred = reg.predict(X_train)\n",
    "y_test_pred = reg.predict(X_test)"
   ]
  },
  {
   "cell_type": "code",
   "execution_count": 31,
   "id": "3617c7c7-1d4e-4738-9da1-47a43d69f9cf",
   "metadata": {},
   "outputs": [
    {
     "name": "stdout",
     "output_type": "stream",
     "text": [
      "0.8669899586475637\n",
      "895\n",
      "685\n",
      "869.6123737007911\n",
      "675.519581683553\n",
      "[[0.00132146 0.03020489 0.0320927  ... 0.07268052 0.34150405 0.81590963]\n",
      " [0.00138933 0.02963907 0.02778663 ... 0.06798462 0.3408493  0.83267261]\n",
      " [0.00131699 0.02847536 0.03025507 ... 0.07207825 0.3203478  0.81991239]\n",
      " ...\n",
      " [0.00198841 0.01973235 0.01517873 ... 0.15011763 0.29143161 0.80583875]\n",
      " [0.00087321 0.03719231 0.056597   ... 0.07212074 0.31791342 0.80254541]\n",
      " [0.00135014 0.02919232 0.03101683 ... 0.07644738 0.34173254 0.80734996]]\n"
     ]
    }
   ],
   "source": [
    "import numpy as np\n",
    "X_train = np.array(X_train)\n",
    "Y_train = np.array(Y_train)\n",
    "Y_test = np.array(Y_test)\n",
    "y_train_pred = np.array(y_train_pred)\n",
    "y_test_pred = np.array(y_test_pred)\n",
    "\n",
    "print(np.max(X_train))\n",
    "print(np.max(Y_train))\n",
    "print(np.max(Y_test))\n",
    "print(np.max(y_train_pred))\n",
    "print(np.max(y_test_pred))\n",
    "\n",
    "print(X_train)"
   ]
  },
  {
   "cell_type": "code",
   "execution_count": 34,
   "id": "3363ec38-5ddb-4dd9-ada6-d5cf4d324750",
   "metadata": {},
   "outputs": [
    {
     "data": {
      "image/png": "[encoded data removed]",
      "text/plain": [
       "<Figure size 640x480 with 1 Axes>"
      ]
     },
     "metadata": {},
     "output_type": "display_data"
    },
    {
     "data": {
      "image/png": "[encoded data removed]",
      "text/plain": [
       "<Figure size 640x480 with 1 Axes>"
      ]
     },
     "metadata": {},
     "output_type": "display_data"
    }
   ],
   "source": [
    "\"\"\"\n",
    "def plotGraph(y_test,y_pred,regressorName):\n",
    "    if max(y_test) >= max(y_pred):\n",
    "        my_range = int(max(y_test))\n",
    "    else:\n",
    "        my_range = int(max(y_pred))\n",
    "    plt.scatter(y_test, y_pred, color='red')\n",
    "    plt.plot(range(my_range), range(my_range), 'o')\n",
    "    plt.title(regressorName)\n",
    "    plt.show()\n",
    "    return\n",
    "\"\"\"\n",
    "\n",
    "# Scatter plot for Training Data\n",
    "plt.scatter(Y_train, y_train_pred, color='green')\n",
    "plt.plot(range(895), range(895), color='black')\n",
    "plt.title('Linear Regression: Actual vs. Predicted (Training Data)')\n",
    "plt.xlabel('Actual Values')\n",
    "plt.ylabel('Predicted Values')\n",
    "plt.show()\n",
    "\n",
    "# Scatter plot for Testing Data\n",
    "plt.scatter(Y_test, y_test_pred, color='green')\n",
    "plt.plot(range(685), range(685), color='black')\n",
    "plt.title('Linear Regression: Actual vs. Predicted (Testing Data)')\n",
    "plt.xlabel('Actual Values')\n",
    "plt.ylabel('Predicted Values')\n",
    "plt.show()"
   ]
  },
  {
   "cell_type": "code",
   "execution_count": 35,
   "id": "7Zgv9ZsL83I8",
   "metadata": {
    "colab": {
     "base_uri": "https://localhost:8080/"
    },
    "id": "7Zgv9ZsL83I8",
    "outputId": "53cac637-141e-44eb-c09b-4d353e1370e2"
   },
   "outputs": [
    {
     "name": "stdout",
     "output_type": "stream",
     "text": [
      "Coefficients: [ 7.92649909e+03 -1.99802273e+02  2.74761125e+02  5.10284708e+02\n",
      "  1.72242403e+04  2.69989630e+04 -1.82215325e+05  3.84960925e+04\n",
      "  5.90539581e+02  1.58393440e+03  1.43989016e+02  4.31806062e+02\n",
      " -9.87109374e+01  3.14059649e+03]\n"
     ]
    }
   ],
   "source": [
    "# Assuming X_train and Y_train are your training data\n",
    "from sklearn.linear_model import LinearRegression\n",
    "\n",
    "# Create and fit the linear regression model\n",
    "reg = LinearRegression().fit(X_train, Y_train)\n",
    "\n",
    "# Get the coefficients\n",
    "coefficients = reg.coef_\n",
    "\n",
    "# Print the coefficients\n",
    "print(\"Coefficients:\", coefficients[0])"
   ]
  },
  {
   "cell_type": "code",
   "execution_count": 36,
   "id": "e86e95b6",
   "metadata": {
    "id": "e86e95b6"
   },
   "outputs": [],
   "source": [
    "pickle.dump(reg, open('model.pkl','wb'))"
   ]
  },
  {
   "cell_type": "code",
   "execution_count": 37,
   "id": "7d270f1a",
   "metadata": {
    "colab": {
     "base_uri": "https://localhost:8080/",
     "height": 472
    },
    "id": "7d270f1a",
    "outputId": "34e44aea-a782-4339-9e9a-765cba60d1ac"
   },
   "outputs": [
    {
     "name": "stdout",
     "output_type": "stream",
     "text": [
      "675.519581683553\n",
      "685\n"
     ]
    }
   ],
   "source": [
    "testing_data_prediction = reg.predict(X_test)\n",
    "testing_data_prediction = np.array(testing_data_prediction)\n",
    "print(np.max(testing_data_prediction))\n",
    "print(np.max(Y_test))"
   ]
  },
  {
   "cell_type": "code",
   "execution_count": 38,
   "id": "f929f147-0315-4314-b4a2-605eae484c51",
   "metadata": {},
   "outputs": [
    {
     "data": {
      "image/png": "[encoded data removed]",
      "text/plain": [
       "<Figure size 640x480 with 1 Axes>"
      ]
     },
     "metadata": {},
     "output_type": "display_data"
    }
   ],
   "source": [
    "plt.scatter(Y_test,testing_data_prediction, color='green')\n",
    "plt.plot(range(685), range(685), color='black')\n",
    "plt.xlabel(\"Actual Range\")\n",
    "plt.ylabel(\"Predicted Range\")\n",
    "plt.title(\"Actual range vs Predicted range (Testing)\")\n",
    "plt.show()"
   ]
  },
  {
   "cell_type": "code",
   "execution_count": 39,
   "id": "67d8892f",
   "metadata": {
    "colab": {
     "base_uri": "https://localhost:8080/"
    },
    "id": "67d8892f",
    "outputId": "29790a08-7ea5-419a-ff96-f9b2a595ba69"
   },
   "outputs": [
    {
     "data": {
      "text/plain": [
       "8.955062916841213"
      ]
     },
     "execution_count": 39,
     "metadata": {},
     "output_type": "execute_result"
    }
   ],
   "source": [
    "mae = mean_absolute_error(Y_test,testing_data_prediction)\n",
    "mae"
   ]
  },
  {
   "cell_type": "code",
   "execution_count": 40,
   "id": "rfVUBPVkP1py",
   "metadata": {
    "colab": {
     "base_uri": "https://localhost:8080/"
    },
    "id": "rfVUBPVkP1py",
    "outputId": "e64fb185-05c3-459c-b05d-d2c77fc92549"
   },
   "outputs": [
    {
     "name": "stdout",
     "output_type": "stream",
     "text": [
      "Mean Squared Error: 137.56152998043328\n"
     ]
    }
   ],
   "source": [
    "from sklearn.metrics import mean_squared_error\n",
    "\n",
    "# Assuming Y_test and testing_data_prediction are your actual and predicted values\n",
    "mse = mean_squared_error(Y_test, testing_data_prediction)\n",
    "\n",
    "print(\"Mean Squared Error:\", mse)"
   ]
  },
  {
   "cell_type": "code",
   "execution_count": 41,
   "id": "Cp3ALGboQe8i",
   "metadata": {
    "colab": {
     "base_uri": "https://localhost:8080/"
    },
    "id": "Cp3ALGboQe8i",
    "outputId": "3c0bf858-6d79-4f20-a8f0-7e3cbf6dd822"
   },
   "outputs": [
    {
     "name": "stdout",
     "output_type": "stream",
     "text": [
      "Root Mean Squared Error: 11.7286627532909\n"
     ]
    }
   ],
   "source": [
    "from sklearn.metrics import mean_squared_error\n",
    "import math\n",
    "\n",
    "# Assuming Y_test and testing_data_prediction are your actual and predicted values\n",
    "mse = mean_squared_error(Y_test, testing_data_prediction)\n",
    "rmse = math.sqrt(mse)\n",
    "\n",
    "print(\"Root Mean Squared Error:\", rmse)"
   ]
  },
  {
   "cell_type": "code",
   "execution_count": 43,
   "id": "8d3b2b47",
   "metadata": {
    "colab": {
     "base_uri": "https://localhost:8080/",
     "height": 119
    },
    "id": "8d3b2b47",
    "outputId": "453e8633-ff19-44a5-a97a-fe5fd2183447"
   },
   "outputs": [
    {
     "data": {
      "text/html": [
       "<style>#sk-container-id-1 {color: black;}#sk-container-id-1 pre{padding: 0;}#sk-container-id-1 div.sk-toggleable {background-color: white;}#sk-container-id-1 label.sk-toggleable__label {cursor: pointer;display: block;width: 100%;margin-bottom: 0;padding: 0.3em;box-sizing: border-box;text-align: center;}#sk-container-id-1 label.sk-toggleable__label-arrow:before {content: \"▸\";float: left;margin-right: 0.25em;color: #696969;}#sk-container-id-1 label.sk-toggleable__label-arrow:hover:before {color: black;}#sk-container-id-1 div.sk-estimator:hover label.sk-toggleable__label-arrow:before {color: black;}#sk-container-id-1 div.sk-toggleable__content {max-height: 0;max-width: 0;overflow: hidden;text-align: left;background-color: #f0f8ff;}#sk-container-id-1 div.sk-toggleable__content pre {margin: 0.2em;color: black;border-radius: 0.25em;background-color: #f0f8ff;}#sk-container-id-1 input.sk-toggleable__control:checked~div.sk-toggleable__content {max-height: 200px;max-width: 100%;overflow: auto;}#sk-container-id-1 input.sk-toggleable__control:checked~label.sk-toggleable__label-arrow:before {content: \"▾\";}#sk-container-id-1 div.sk-estimator input.sk-toggleable__control:checked~label.sk-toggleable__label {background-color: #d4ebff;}#sk-container-id-1 div.sk-label input.sk-toggleable__control:checked~label.sk-toggleable__label {background-color: #d4ebff;}#sk-container-id-1 input.sk-hidden--visually {border: 0;clip: rect(1px 1px 1px 1px);clip: rect(1px, 1px, 1px, 1px);height: 1px;margin: -1px;overflow: hidden;padding: 0;position: absolute;width: 1px;}#sk-container-id-1 div.sk-estimator {font-family: monospace;background-color: #f0f8ff;border: 1px dotted black;border-radius: 0.25em;box-sizing: border-box;margin-bottom: 0.5em;}#sk-container-id-1 div.sk-estimator:hover {background-color: #d4ebff;}#sk-container-id-1 div.sk-parallel-item::after {content: \"\";width: 100%;border-bottom: 1px solid gray;flex-grow: 1;}#sk-container-id-1 div.sk-label:hover label.sk-toggleable__label {background-color: #d4ebff;}#sk-container-id-1 div.sk-serial::before {content: \"\";position: absolute;border-left: 1px solid gray;box-sizing: border-box;top: 0;bottom: 0;left: 50%;z-index: 0;}#sk-container-id-1 div.sk-serial {display: flex;flex-direction: column;align-items: center;background-color: white;padding-right: 0.2em;padding-left: 0.2em;position: relative;}#sk-container-id-1 div.sk-item {position: relative;z-index: 1;}#sk-container-id-1 div.sk-parallel {display: flex;align-items: stretch;justify-content: center;background-color: white;position: relative;}#sk-container-id-1 div.sk-item::before, #sk-container-id-1 div.sk-parallel-item::before {content: \"\";position: absolute;border-left: 1px solid gray;box-sizing: border-box;top: 0;bottom: 0;left: 50%;z-index: -1;}#sk-container-id-1 div.sk-parallel-item {display: flex;flex-direction: column;z-index: 1;position: relative;background-color: white;}#sk-container-id-1 div.sk-parallel-item:first-child::after {align-self: flex-end;width: 50%;}#sk-container-id-1 div.sk-parallel-item:last-child::after {align-self: flex-start;width: 50%;}#sk-container-id-1 div.sk-parallel-item:only-child::after {width: 0;}#sk-container-id-1 div.sk-dashed-wrapped {border: 1px dashed gray;margin: 0 0.4em 0.5em 0.4em;box-sizing: border-box;padding-bottom: 0.4em;background-color: white;}#sk-container-id-1 div.sk-label label {font-family: monospace;font-weight: bold;display: inline-block;line-height: 1.2em;}#sk-container-id-1 div.sk-label-container {text-align: center;}#sk-container-id-1 div.sk-container {/* jupyter's `normalize.less` sets `[hidden] { display: none; }` but bootstrap.min.css set `[hidden] { display: none !important; }` so we also need the `!important` here to be able to override the default hidden behavior on the sphinx rendered scikit-learn.org. See: https://github.com/scikit-learn/scikit-learn/issues/21755 */display: inline-block !important;position: relative;}#sk-container-id-1 div.sk-text-repr-fallback {display: none;}</style><div id=\"sk-container-id-1\" class=\"sk-top-container\"><div class=\"sk-text-repr-fallback\"><pre>RandomizedSearchCV(cv=5, estimator=RandomForestRegressor(random_state=42),\n",
       "                   param_distributions={&#x27;max_features&#x27;: &lt;scipy.stats._distn_infrastructure.rv_discrete_frozen object at 0x0000025EF8EB4450&gt;,\n",
       "                                        &#x27;n_estimators&#x27;: &lt;scipy.stats._distn_infrastructure.rv_discrete_frozen object at 0x0000025EF8ED5CD0&gt;},\n",
       "                   random_state=42, scoring=&#x27;neg_mean_squared_error&#x27;)</pre><b>In a Jupyter environment, please rerun this cell to show the HTML representation or trust the notebook. <br />On GitHub, the HTML representation is unable to render, please try loading this page with nbviewer.org.</b></div><div class=\"sk-container\" hidden><div class=\"sk-item sk-dashed-wrapped\"><div class=\"sk-label-container\"><div class=\"sk-label sk-toggleable\"><input class=\"sk-toggleable__control sk-hidden--visually\" id=\"sk-estimator-id-1\" type=\"checkbox\" ><label for=\"sk-estimator-id-1\" class=\"sk-toggleable__label sk-toggleable__label-arrow\">RandomizedSearchCV</label><div class=\"sk-toggleable__content\"><pre>RandomizedSearchCV(cv=5, estimator=RandomForestRegressor(random_state=42),\n",
       "                   param_distributions={&#x27;max_features&#x27;: &lt;scipy.stats._distn_infrastructure.rv_discrete_frozen object at 0x0000025EF8EB4450&gt;,\n",
       "                                        &#x27;n_estimators&#x27;: &lt;scipy.stats._distn_infrastructure.rv_discrete_frozen object at 0x0000025EF8ED5CD0&gt;},\n",
       "                   random_state=42, scoring=&#x27;neg_mean_squared_error&#x27;)</pre></div></div></div><div class=\"sk-parallel\"><div class=\"sk-parallel-item\"><div class=\"sk-item\"><div class=\"sk-label-container\"><div class=\"sk-label sk-toggleable\"><input class=\"sk-toggleable__control sk-hidden--visually\" id=\"sk-estimator-id-2\" type=\"checkbox\" ><label for=\"sk-estimator-id-2\" class=\"sk-toggleable__label sk-toggleable__label-arrow\">estimator: RandomForestRegressor</label><div class=\"sk-toggleable__content\"><pre>RandomForestRegressor(random_state=42)</pre></div></div></div><div class=\"sk-serial\"><div class=\"sk-item\"><div class=\"sk-estimator sk-toggleable\"><input class=\"sk-toggleable__control sk-hidden--visually\" id=\"sk-estimator-id-3\" type=\"checkbox\" ><label for=\"sk-estimator-id-3\" class=\"sk-toggleable__label sk-toggleable__label-arrow\">RandomForestRegressor</label><div class=\"sk-toggleable__content\"><pre>RandomForestRegressor(random_state=42)</pre></div></div></div></div></div></div></div></div></div></div>"
      ],
      "text/plain": [
       "RandomizedSearchCV(cv=5, estimator=RandomForestRegressor(random_state=42),\n",
       "                   param_distributions={'max_features': <scipy.stats._distn_infrastructure.rv_discrete_frozen object at 0x0000025EF8EB4450>,\n",
       "                                        'n_estimators': <scipy.stats._distn_infrastructure.rv_discrete_frozen object at 0x0000025EF8ED5CD0>},\n",
       "                   random_state=42, scoring='neg_mean_squared_error')"
      ]
     },
     "execution_count": 43,
     "metadata": {},
     "output_type": "execute_result"
    }
   ],
   "source": [
    "from sklearn.ensemble import RandomForestRegressor\n",
    "from sklearn.model_selection import RandomizedSearchCV\n",
    "from scipy.stats import randint\n",
    "\n",
    "param_distribs={\n",
    "    'n_estimators':randint(low=1,high=200),\n",
    "    'max_features':randint(low=1,high=15),\n",
    "}\n",
    "\n",
    "forest_reg=RandomForestRegressor(random_state=42)\n",
    "rnd_search=RandomizedSearchCV(forest_reg,param_distributions=param_distribs,n_iter=10,cv=5,scoring=\"neg_mean_squared_error\",\n",
    "                              random_state=42)\n",
    "rnd_search.fit(X_train,Y_train)"
   ]
  },
  {
   "cell_type": "code",
   "execution_count": 44,
   "id": "3e6a7f92",
   "metadata": {
    "colab": {
     "base_uri": "https://localhost:8080/",
     "height": 472
    },
    "id": "3e6a7f92",
    "outputId": "f67fdc50-b03f-4b14-c56a-0fcd2e040df0"
   },
   "outputs": [
    {
     "name": "stdout",
     "output_type": "stream",
     "text": [
      "682.9605263157895\n",
      "685\n"
     ]
    }
   ],
   "source": [
    "testing_data_prediction1 = rnd_search.predict(X_test)\n",
    "testing_data_prediction1 = np.array(testing_data_prediction1)\n",
    "print(np.max(testing_data_prediction1))\n",
    "print(np.max(Y_test))"
   ]
  },
  {
   "cell_type": "code",
   "execution_count": 45,
   "id": "483efa86-571a-427a-82a2-a83402697a71",
   "metadata": {},
   "outputs": [
    {
     "data": {
      "image/png": "[encoded data removed]",
      "text/plain": [
       "<Figure size 640x480 with 1 Axes>"
      ]
     },
     "metadata": {},
     "output_type": "display_data"
    }
   ],
   "source": [
    "plt.scatter(Y_test,testing_data_prediction1, color = 'green')\n",
    "plt.plot(range(685), range(685), color='black')\n",
    "plt.xlabel(\"Actual Range\")\n",
    "plt.ylabel(\"Predicted Range\")\n",
    "plt.title(\"Actual range vs Predicted range (Testing)\")\n",
    "plt.show()"
   ]
  },
  {
   "cell_type": "code",
   "execution_count": 46,
   "id": "731dc22f",
   "metadata": {
    "colab": {
     "base_uri": "https://localhost:8080/"
    },
    "id": "731dc22f",
    "outputId": "bb90b8eb-e274-458f-a1c8-4cdf60d78d7f"
   },
   "outputs": [
    {
     "data": {
      "text/plain": [
       "14.015206284943128"
      ]
     },
     "execution_count": 46,
     "metadata": {},
     "output_type": "execute_result"
    }
   ],
   "source": [
    "mae1 = mean_absolute_error(Y_test,testing_data_prediction1)\n",
    "mae1"
   ]
  },
  {
   "cell_type": "code",
   "execution_count": 47,
   "id": "80b3929d",
   "metadata": {
    "colab": {
     "base_uri": "https://localhost:8080/",
     "height": 119
    },
    "id": "80b3929d",
    "outputId": "20d3821a-751a-43df-94d4-18dd46916267"
   },
   "outputs": [
    {
     "data": {
      "text/html": [
       "<style>#sk-container-id-2 {color: black;}#sk-container-id-2 pre{padding: 0;}#sk-container-id-2 div.sk-toggleable {background-color: white;}#sk-container-id-2 label.sk-toggleable__label {cursor: pointer;display: block;width: 100%;margin-bottom: 0;padding: 0.3em;box-sizing: border-box;text-align: center;}#sk-container-id-2 label.sk-toggleable__label-arrow:before {content: \"▸\";float: left;margin-right: 0.25em;color: #696969;}#sk-container-id-2 label.sk-toggleable__label-arrow:hover:before {color: black;}#sk-container-id-2 div.sk-estimator:hover label.sk-toggleable__label-arrow:before {color: black;}#sk-container-id-2 div.sk-toggleable__content {max-height: 0;max-width: 0;overflow: hidden;text-align: left;background-color: #f0f8ff;}#sk-container-id-2 div.sk-toggleable__content pre {margin: 0.2em;color: black;border-radius: 0.25em;background-color: #f0f8ff;}#sk-container-id-2 input.sk-toggleable__control:checked~div.sk-toggleable__content {max-height: 200px;max-width: 100%;overflow: auto;}#sk-container-id-2 input.sk-toggleable__control:checked~label.sk-toggleable__label-arrow:before {content: \"▾\";}#sk-container-id-2 div.sk-estimator input.sk-toggleable__control:checked~label.sk-toggleable__label {background-color: #d4ebff;}#sk-container-id-2 div.sk-label input.sk-toggleable__control:checked~label.sk-toggleable__label {background-color: #d4ebff;}#sk-container-id-2 input.sk-hidden--visually {border: 0;clip: rect(1px 1px 1px 1px);clip: rect(1px, 1px, 1px, 1px);height: 1px;margin: -1px;overflow: hidden;padding: 0;position: absolute;width: 1px;}#sk-container-id-2 div.sk-estimator {font-family: monospace;background-color: #f0f8ff;border: 1px dotted black;border-radius: 0.25em;box-sizing: border-box;margin-bottom: 0.5em;}#sk-container-id-2 div.sk-estimator:hover {background-color: #d4ebff;}#sk-container-id-2 div.sk-parallel-item::after {content: \"\";width: 100%;border-bottom: 1px solid gray;flex-grow: 1;}#sk-container-id-2 div.sk-label:hover label.sk-toggleable__label {background-color: #d4ebff;}#sk-container-id-2 div.sk-serial::before {content: \"\";position: absolute;border-left: 1px solid gray;box-sizing: border-box;top: 0;bottom: 0;left: 50%;z-index: 0;}#sk-container-id-2 div.sk-serial {display: flex;flex-direction: column;align-items: center;background-color: white;padding-right: 0.2em;padding-left: 0.2em;position: relative;}#sk-container-id-2 div.sk-item {position: relative;z-index: 1;}#sk-container-id-2 div.sk-parallel {display: flex;align-items: stretch;justify-content: center;background-color: white;position: relative;}#sk-container-id-2 div.sk-item::before, #sk-container-id-2 div.sk-parallel-item::before {content: \"\";position: absolute;border-left: 1px solid gray;box-sizing: border-box;top: 0;bottom: 0;left: 50%;z-index: -1;}#sk-container-id-2 div.sk-parallel-item {display: flex;flex-direction: column;z-index: 1;position: relative;background-color: white;}#sk-container-id-2 div.sk-parallel-item:first-child::after {align-self: flex-end;width: 50%;}#sk-container-id-2 div.sk-parallel-item:last-child::after {align-self: flex-start;width: 50%;}#sk-container-id-2 div.sk-parallel-item:only-child::after {width: 0;}#sk-container-id-2 div.sk-dashed-wrapped {border: 1px dashed gray;margin: 0 0.4em 0.5em 0.4em;box-sizing: border-box;padding-bottom: 0.4em;background-color: white;}#sk-container-id-2 div.sk-label label {font-family: monospace;font-weight: bold;display: inline-block;line-height: 1.2em;}#sk-container-id-2 div.sk-label-container {text-align: center;}#sk-container-id-2 div.sk-container {/* jupyter's `normalize.less` sets `[hidden] { display: none; }` but bootstrap.min.css set `[hidden] { display: none !important; }` so we also need the `!important` here to be able to override the default hidden behavior on the sphinx rendered scikit-learn.org. See: https://github.com/scikit-learn/scikit-learn/issues/21755 */display: inline-block !important;position: relative;}#sk-container-id-2 div.sk-text-repr-fallback {display: none;}</style><div id=\"sk-container-id-2\" class=\"sk-top-container\"><div class=\"sk-text-repr-fallback\"><pre>GridSearchCV(cv=5, estimator=RandomForestClassifier(),\n",
       "             param_grid=[{&#x27;max_features&#x27;: [2, 4, 6, 8],\n",
       "                          &#x27;n_estimators&#x27;: [3, 10, 30]},\n",
       "                         {&#x27;bootstrap&#x27;: [False], &#x27;max_features&#x27;: [2, 3, 4],\n",
       "                          &#x27;n_estimators&#x27;: [3, 10]}],\n",
       "             return_train_score=True, scoring=&#x27;neg_mean_squared_error&#x27;)</pre><b>In a Jupyter environment, please rerun this cell to show the HTML representation or trust the notebook. <br />On GitHub, the HTML representation is unable to render, please try loading this page with nbviewer.org.</b></div><div class=\"sk-container\" hidden><div class=\"sk-item sk-dashed-wrapped\"><div class=\"sk-label-container\"><div class=\"sk-label sk-toggleable\"><input class=\"sk-toggleable__control sk-hidden--visually\" id=\"sk-estimator-id-4\" type=\"checkbox\" ><label for=\"sk-estimator-id-4\" class=\"sk-toggleable__label sk-toggleable__label-arrow\">GridSearchCV</label><div class=\"sk-toggleable__content\"><pre>GridSearchCV(cv=5, estimator=RandomForestClassifier(),\n",
       "             param_grid=[{&#x27;max_features&#x27;: [2, 4, 6, 8],\n",
       "                          &#x27;n_estimators&#x27;: [3, 10, 30]},\n",
       "                         {&#x27;bootstrap&#x27;: [False], &#x27;max_features&#x27;: [2, 3, 4],\n",
       "                          &#x27;n_estimators&#x27;: [3, 10]}],\n",
       "             return_train_score=True, scoring=&#x27;neg_mean_squared_error&#x27;)</pre></div></div></div><div class=\"sk-parallel\"><div class=\"sk-parallel-item\"><div class=\"sk-item\"><div class=\"sk-label-container\"><div class=\"sk-label sk-toggleable\"><input class=\"sk-toggleable__control sk-hidden--visually\" id=\"sk-estimator-id-5\" type=\"checkbox\" ><label for=\"sk-estimator-id-5\" class=\"sk-toggleable__label sk-toggleable__label-arrow\">estimator: RandomForestClassifier</label><div class=\"sk-toggleable__content\"><pre>RandomForestClassifier()</pre></div></div></div><div class=\"sk-serial\"><div class=\"sk-item\"><div class=\"sk-estimator sk-toggleable\"><input class=\"sk-toggleable__control sk-hidden--visually\" id=\"sk-estimator-id-6\" type=\"checkbox\" ><label for=\"sk-estimator-id-6\" class=\"sk-toggleable__label sk-toggleable__label-arrow\">RandomForestClassifier</label><div class=\"sk-toggleable__content\"><pre>RandomForestClassifier()</pre></div></div></div></div></div></div></div></div></div></div>"
      ],
      "text/plain": [
       "GridSearchCV(cv=5, estimator=RandomForestClassifier(),\n",
       "             param_grid=[{'max_features': [2, 4, 6, 8],\n",
       "                          'n_estimators': [3, 10, 30]},\n",
       "                         {'bootstrap': [False], 'max_features': [2, 3, 4],\n",
       "                          'n_estimators': [3, 10]}],\n",
       "             return_train_score=True, scoring='neg_mean_squared_error')"
      ]
     },
     "execution_count": 47,
     "metadata": {},
     "output_type": "execute_result"
    }
   ],
   "source": [
    "from sklearn.model_selection import GridSearchCV\n",
    "from sklearn.ensemble import RandomForestClassifier\n",
    "\n",
    "param_grid=[\n",
    "        {'n_estimators':[3,10,30],'max_features':[2,4,6,8]},\n",
    "        {'bootstrap':[False],'n_estimators':[3,10],'max_features':[2,3,4]},\n",
    "]\n",
    "\n",
    "rfc=RandomForestClassifier()\n",
    "grid_search=GridSearchCV(rfc,param_grid,cv=5,scoring=\"neg_mean_squared_error\",\n",
    "                              return_train_score=True)\n",
    "grid_search.fit(X_train,Y_train)"
   ]
  },
  {
   "cell_type": "code",
   "execution_count": 48,
   "id": "94b05af0",
   "metadata": {
    "colab": {
     "base_uri": "https://localhost:8080/",
     "height": 75
    },
    "id": "94b05af0",
    "outputId": "8dbfe698-a0e8-4260-e4d1-35404670770e"
   },
   "outputs": [
    {
     "data": {
      "text/html": [
       "<style>#sk-container-id-3 {color: black;}#sk-container-id-3 pre{padding: 0;}#sk-container-id-3 div.sk-toggleable {background-color: white;}#sk-container-id-3 label.sk-toggleable__label {cursor: pointer;display: block;width: 100%;margin-bottom: 0;padding: 0.3em;box-sizing: border-box;text-align: center;}#sk-container-id-3 label.sk-toggleable__label-arrow:before {content: \"▸\";float: left;margin-right: 0.25em;color: #696969;}#sk-container-id-3 label.sk-toggleable__label-arrow:hover:before {color: black;}#sk-container-id-3 div.sk-estimator:hover label.sk-toggleable__label-arrow:before {color: black;}#sk-container-id-3 div.sk-toggleable__content {max-height: 0;max-width: 0;overflow: hidden;text-align: left;background-color: #f0f8ff;}#sk-container-id-3 div.sk-toggleable__content pre {margin: 0.2em;color: black;border-radius: 0.25em;background-color: #f0f8ff;}#sk-container-id-3 input.sk-toggleable__control:checked~div.sk-toggleable__content {max-height: 200px;max-width: 100%;overflow: auto;}#sk-container-id-3 input.sk-toggleable__control:checked~label.sk-toggleable__label-arrow:before {content: \"▾\";}#sk-container-id-3 div.sk-estimator input.sk-toggleable__control:checked~label.sk-toggleable__label {background-color: #d4ebff;}#sk-container-id-3 div.sk-label input.sk-toggleable__control:checked~label.sk-toggleable__label {background-color: #d4ebff;}#sk-container-id-3 input.sk-hidden--visually {border: 0;clip: rect(1px 1px 1px 1px);clip: rect(1px, 1px, 1px, 1px);height: 1px;margin: -1px;overflow: hidden;padding: 0;position: absolute;width: 1px;}#sk-container-id-3 div.sk-estimator {font-family: monospace;background-color: #f0f8ff;border: 1px dotted black;border-radius: 0.25em;box-sizing: border-box;margin-bottom: 0.5em;}#sk-container-id-3 div.sk-estimator:hover {background-color: #d4ebff;}#sk-container-id-3 div.sk-parallel-item::after {content: \"\";width: 100%;border-bottom: 1px solid gray;flex-grow: 1;}#sk-container-id-3 div.sk-label:hover label.sk-toggleable__label {background-color: #d4ebff;}#sk-container-id-3 div.sk-serial::before {content: \"\";position: absolute;border-left: 1px solid gray;box-sizing: border-box;top: 0;bottom: 0;left: 50%;z-index: 0;}#sk-container-id-3 div.sk-serial {display: flex;flex-direction: column;align-items: center;background-color: white;padding-right: 0.2em;padding-left: 0.2em;position: relative;}#sk-container-id-3 div.sk-item {position: relative;z-index: 1;}#sk-container-id-3 div.sk-parallel {display: flex;align-items: stretch;justify-content: center;background-color: white;position: relative;}#sk-container-id-3 div.sk-item::before, #sk-container-id-3 div.sk-parallel-item::before {content: \"\";position: absolute;border-left: 1px solid gray;box-sizing: border-box;top: 0;bottom: 0;left: 50%;z-index: -1;}#sk-container-id-3 div.sk-parallel-item {display: flex;flex-direction: column;z-index: 1;position: relative;background-color: white;}#sk-container-id-3 div.sk-parallel-item:first-child::after {align-self: flex-end;width: 50%;}#sk-container-id-3 div.sk-parallel-item:last-child::after {align-self: flex-start;width: 50%;}#sk-container-id-3 div.sk-parallel-item:only-child::after {width: 0;}#sk-container-id-3 div.sk-dashed-wrapped {border: 1px dashed gray;margin: 0 0.4em 0.5em 0.4em;box-sizing: border-box;padding-bottom: 0.4em;background-color: white;}#sk-container-id-3 div.sk-label label {font-family: monospace;font-weight: bold;display: inline-block;line-height: 1.2em;}#sk-container-id-3 div.sk-label-container {text-align: center;}#sk-container-id-3 div.sk-container {/* jupyter's `normalize.less` sets `[hidden] { display: none; }` but bootstrap.min.css set `[hidden] { display: none !important; }` so we also need the `!important` here to be able to override the default hidden behavior on the sphinx rendered scikit-learn.org. See: https://github.com/scikit-learn/scikit-learn/issues/21755 */display: inline-block !important;position: relative;}#sk-container-id-3 div.sk-text-repr-fallback {display: none;}</style><div id=\"sk-container-id-3\" class=\"sk-top-container\"><div class=\"sk-text-repr-fallback\"><pre>RandomForestClassifier(max_features=8, n_estimators=30)</pre><b>In a Jupyter environment, please rerun this cell to show the HTML representation or trust the notebook. <br />On GitHub, the HTML representation is unable to render, please try loading this page with nbviewer.org.</b></div><div class=\"sk-container\" hidden><div class=\"sk-item\"><div class=\"sk-estimator sk-toggleable\"><input class=\"sk-toggleable__control sk-hidden--visually\" id=\"sk-estimator-id-7\" type=\"checkbox\" checked><label for=\"sk-estimator-id-7\" class=\"sk-toggleable__label sk-toggleable__label-arrow\">RandomForestClassifier</label><div class=\"sk-toggleable__content\"><pre>RandomForestClassifier(max_features=8, n_estimators=30)</pre></div></div></div></div></div>"
      ],
      "text/plain": [
       "RandomForestClassifier(max_features=8, n_estimators=30)"
      ]
     },
     "execution_count": 48,
     "metadata": {},
     "output_type": "execute_result"
    }
   ],
   "source": [
    "rfc_clf=grid_search.best_estimator_\n",
    "rfc_clf"
   ]
  },
  {
   "cell_type": "code",
   "execution_count": 49,
   "id": "b038e906",
   "metadata": {
    "id": "b038e906"
   },
   "outputs": [],
   "source": [
    "rfc_clf_predictions=rfc_clf.predict(X_test)"
   ]
  },
  {
   "cell_type": "code",
   "execution_count": 50,
   "id": "336be016",
   "metadata": {
    "colab": {
     "base_uri": "https://localhost:8080/",
     "height": 472
    },
    "id": "336be016",
    "outputId": "5e382553-aca3-48c6-8cca-e4117cfb9d0b"
   },
   "outputs": [
    {
     "name": "stdout",
     "output_type": "stream",
     "text": [
      "675\n",
      "685\n"
     ]
    }
   ],
   "source": [
    "testing_data_prediction2=rfc_clf.predict(X_test)\n",
    "testing_data_prediction2 = np.array(testing_data_prediction2)\n",
    "print(np.max(testing_data_prediction2))\n",
    "print(np.max(Y_test))"
   ]
  },
  {
   "cell_type": "code",
   "execution_count": 62,
   "id": "c47178ab-3a16-4f0c-9c49-cacab7b9563b",
   "metadata": {},
   "outputs": [
    {
     "data": {
      "image/png": "[encoded data removed]",
      "text/plain": [
       "<Figure size 640x480 with 1 Axes>"
      ]
     },
     "metadata": {},
     "output_type": "display_data"
    }
   ],
   "source": [
    "plt.scatter(Y_test,testing_data_prediction2, color = 'green')\n",
    "plt.plot(range(685), range(685), color='black')\n",
    "plt.xlabel(\"Actual Range\")\n",
    "plt.ylabel(\"Predicted Range\")\n",
    "plt.title(\"Actual range vs Predicted range (Testing)\")\n",
    "plt.show()"
   ]
  },
  {
   "cell_type": "code",
   "execution_count": 52,
   "id": "0cb553f6",
   "metadata": {
    "colab": {
     "base_uri": "https://localhost:8080/"
    },
    "id": "0cb553f6",
    "outputId": "2fe28e04-e396-46d6-a64d-6c8c15df75c3"
   },
   "outputs": [
    {
     "data": {
      "text/plain": [
       "15.952380952380953"
      ]
     },
     "execution_count": 52,
     "metadata": {},
     "output_type": "execute_result"
    }
   ],
   "source": [
    "mae2 = mean_absolute_error(Y_test,rfc_clf_predictions)\n",
    "mae2"
   ]
  },
  {
   "cell_type": "code",
   "execution_count": 53,
   "id": "dfbb81ab",
   "metadata": {
    "colab": {
     "base_uri": "https://localhost:8080/",
     "height": 75
    },
    "id": "dfbb81ab",
    "outputId": "3ea4ab56-4f66-4918-8c3f-1b7b54f18488"
   },
   "outputs": [
    {
     "data": {
      "text/html": [
       "<style>#sk-container-id-4 {color: black;}#sk-container-id-4 pre{padding: 0;}#sk-container-id-4 div.sk-toggleable {background-color: white;}#sk-container-id-4 label.sk-toggleable__label {cursor: pointer;display: block;width: 100%;margin-bottom: 0;padding: 0.3em;box-sizing: border-box;text-align: center;}#sk-container-id-4 label.sk-toggleable__label-arrow:before {content: \"▸\";float: left;margin-right: 0.25em;color: #696969;}#sk-container-id-4 label.sk-toggleable__label-arrow:hover:before {color: black;}#sk-container-id-4 div.sk-estimator:hover label.sk-toggleable__label-arrow:before {color: black;}#sk-container-id-4 div.sk-toggleable__content {max-height: 0;max-width: 0;overflow: hidden;text-align: left;background-color: #f0f8ff;}#sk-container-id-4 div.sk-toggleable__content pre {margin: 0.2em;color: black;border-radius: 0.25em;background-color: #f0f8ff;}#sk-container-id-4 input.sk-toggleable__control:checked~div.sk-toggleable__content {max-height: 200px;max-width: 100%;overflow: auto;}#sk-container-id-4 input.sk-toggleable__control:checked~label.sk-toggleable__label-arrow:before {content: \"▾\";}#sk-container-id-4 div.sk-estimator input.sk-toggleable__control:checked~label.sk-toggleable__label {background-color: #d4ebff;}#sk-container-id-4 div.sk-label input.sk-toggleable__control:checked~label.sk-toggleable__label {background-color: #d4ebff;}#sk-container-id-4 input.sk-hidden--visually {border: 0;clip: rect(1px 1px 1px 1px);clip: rect(1px, 1px, 1px, 1px);height: 1px;margin: -1px;overflow: hidden;padding: 0;position: absolute;width: 1px;}#sk-container-id-4 div.sk-estimator {font-family: monospace;background-color: #f0f8ff;border: 1px dotted black;border-radius: 0.25em;box-sizing: border-box;margin-bottom: 0.5em;}#sk-container-id-4 div.sk-estimator:hover {background-color: #d4ebff;}#sk-container-id-4 div.sk-parallel-item::after {content: \"\";width: 100%;border-bottom: 1px solid gray;flex-grow: 1;}#sk-container-id-4 div.sk-label:hover label.sk-toggleable__label {background-color: #d4ebff;}#sk-container-id-4 div.sk-serial::before {content: \"\";position: absolute;border-left: 1px solid gray;box-sizing: border-box;top: 0;bottom: 0;left: 50%;z-index: 0;}#sk-container-id-4 div.sk-serial {display: flex;flex-direction: column;align-items: center;background-color: white;padding-right: 0.2em;padding-left: 0.2em;position: relative;}#sk-container-id-4 div.sk-item {position: relative;z-index: 1;}#sk-container-id-4 div.sk-parallel {display: flex;align-items: stretch;justify-content: center;background-color: white;position: relative;}#sk-container-id-4 div.sk-item::before, #sk-container-id-4 div.sk-parallel-item::before {content: \"\";position: absolute;border-left: 1px solid gray;box-sizing: border-box;top: 0;bottom: 0;left: 50%;z-index: -1;}#sk-container-id-4 div.sk-parallel-item {display: flex;flex-direction: column;z-index: 1;position: relative;background-color: white;}#sk-container-id-4 div.sk-parallel-item:first-child::after {align-self: flex-end;width: 50%;}#sk-container-id-4 div.sk-parallel-item:last-child::after {align-self: flex-start;width: 50%;}#sk-container-id-4 div.sk-parallel-item:only-child::after {width: 0;}#sk-container-id-4 div.sk-dashed-wrapped {border: 1px dashed gray;margin: 0 0.4em 0.5em 0.4em;box-sizing: border-box;padding-bottom: 0.4em;background-color: white;}#sk-container-id-4 div.sk-label label {font-family: monospace;font-weight: bold;display: inline-block;line-height: 1.2em;}#sk-container-id-4 div.sk-label-container {text-align: center;}#sk-container-id-4 div.sk-container {/* jupyter's `normalize.less` sets `[hidden] { display: none; }` but bootstrap.min.css set `[hidden] { display: none !important; }` so we also need the `!important` here to be able to override the default hidden behavior on the sphinx rendered scikit-learn.org. See: https://github.com/scikit-learn/scikit-learn/issues/21755 */display: inline-block !important;position: relative;}#sk-container-id-4 div.sk-text-repr-fallback {display: none;}</style><div id=\"sk-container-id-4\" class=\"sk-top-container\"><div class=\"sk-text-repr-fallback\"><pre>DecisionTreeRegressor(random_state=42)</pre><b>In a Jupyter environment, please rerun this cell to show the HTML representation or trust the notebook. <br />On GitHub, the HTML representation is unable to render, please try loading this page with nbviewer.org.</b></div><div class=\"sk-container\" hidden><div class=\"sk-item\"><div class=\"sk-estimator sk-toggleable\"><input class=\"sk-toggleable__control sk-hidden--visually\" id=\"sk-estimator-id-8\" type=\"checkbox\" checked><label for=\"sk-estimator-id-8\" class=\"sk-toggleable__label sk-toggleable__label-arrow\">DecisionTreeRegressor</label><div class=\"sk-toggleable__content\"><pre>DecisionTreeRegressor(random_state=42)</pre></div></div></div></div></div>"
      ],
      "text/plain": [
       "DecisionTreeRegressor(random_state=42)"
      ]
     },
     "execution_count": 53,
     "metadata": {},
     "output_type": "execute_result"
    }
   ],
   "source": [
    "from sklearn.tree import DecisionTreeRegressor\n",
    "\n",
    "tree_reg=DecisionTreeRegressor(random_state=42)\n",
    "tree_reg.fit(X_train,Y_train)"
   ]
  },
  {
   "cell_type": "code",
   "execution_count": 54,
   "id": "KYJi5SPOUnzd",
   "metadata": {
    "colab": {
     "base_uri": "https://localhost:8080/"
    },
    "id": "KYJi5SPOUnzd",
    "outputId": "14ee25a4-6821-4089-e17d-69f1e35ed3c2"
   },
   "outputs": [
    {
     "name": "stdout",
     "output_type": "stream",
     "text": [
      "R2 Score for Training Data: 1.0\n",
      "R2 Score for Testing Data: 0.9359052528548403\n"
     ]
    }
   ],
   "source": [
    "from sklearn.metrics import r2_score\n",
    "\n",
    "# Assuming tree_reg is your trained Decision Tree Regressor\n",
    "# Training set\n",
    "y_train_pred = tree_reg.predict(X_train)\n",
    "r2_train = r2_score(Y_train, y_train_pred)\n",
    "print(\"R2 Score for Training Data:\", r2_train)\n",
    "\n",
    "# Testing set\n",
    "y_test_pred = tree_reg.predict(X_test)\n",
    "r2_test = r2_score(Y_test, y_test_pred)\n",
    "print(\"R2 Score for Testing Data:\", r2_test)"
   ]
  },
  {
   "cell_type": "code",
   "execution_count": 55,
   "id": "l8UWb3rqUzm4",
   "metadata": {
    "colab": {
     "base_uri": "https://localhost:8080/"
    },
    "id": "l8UWb3rqUzm4",
    "outputId": "932d9b70-7b2b-4c3d-916b-ffdfccc9096b"
   },
   "outputs": [
    {
     "name": "stdout",
     "output_type": "stream",
     "text": [
      "Mean Squared Error: 470.5128205128205\n",
      "Root Mean Squared Error: 21.691307487397353\n"
     ]
    }
   ],
   "source": [
    "from sklearn.metrics import r2_score, mean_squared_error\n",
    "import numpy as np\n",
    "\n",
    "# Assuming tree_reg is your trained Decision Tree Regressor\n",
    "y_pred = tree_reg.predict(X_test)\n",
    "# Mean Squared Error (MSE)\n",
    "mse = mean_squared_error(Y_test, y_pred)\n",
    "print(\"Mean Squared Error:\", mse)\n",
    "\n",
    "# Root Mean Squared Error (RMSE)\n",
    "rmse = np.sqrt(mse)\n",
    "print(\"Root Mean Squared Error:\", rmse)"
   ]
  },
  {
   "cell_type": "code",
   "execution_count": 56,
   "id": "cb9b7fcb",
   "metadata": {
    "colab": {
     "base_uri": "https://localhost:8080/"
    },
    "id": "cb9b7fcb",
    "outputId": "40b8594f-efab-4b47-fedd-ab39a15d57be"
   },
   "outputs": [
    {
     "data": {
      "text/plain": [
       "14.505494505494507"
      ]
     },
     "execution_count": 56,
     "metadata": {},
     "output_type": "execute_result"
    }
   ],
   "source": [
    "testing_data_prediction3=tree_reg.predict(X_test)\n",
    "mae3 = mean_absolute_error(Y_test,testing_data_prediction3)\n",
    "mae3"
   ]
  },
  {
   "cell_type": "code",
   "execution_count": 57,
   "id": "9f60366a",
   "metadata": {
    "colab": {
     "base_uri": "https://localhost:8080/",
     "height": 75
    },
    "id": "9f60366a",
    "outputId": "c9486c0c-3363-480f-d46b-fbeb515266c5"
   },
   "outputs": [
    {
     "data": {
      "text/html": [
       "<style>#sk-container-id-5 {color: black;}#sk-container-id-5 pre{padding: 0;}#sk-container-id-5 div.sk-toggleable {background-color: white;}#sk-container-id-5 label.sk-toggleable__label {cursor: pointer;display: block;width: 100%;margin-bottom: 0;padding: 0.3em;box-sizing: border-box;text-align: center;}#sk-container-id-5 label.sk-toggleable__label-arrow:before {content: \"▸\";float: left;margin-right: 0.25em;color: #696969;}#sk-container-id-5 label.sk-toggleable__label-arrow:hover:before {color: black;}#sk-container-id-5 div.sk-estimator:hover label.sk-toggleable__label-arrow:before {color: black;}#sk-container-id-5 div.sk-toggleable__content {max-height: 0;max-width: 0;overflow: hidden;text-align: left;background-color: #f0f8ff;}#sk-container-id-5 div.sk-toggleable__content pre {margin: 0.2em;color: black;border-radius: 0.25em;background-color: #f0f8ff;}#sk-container-id-5 input.sk-toggleable__control:checked~div.sk-toggleable__content {max-height: 200px;max-width: 100%;overflow: auto;}#sk-container-id-5 input.sk-toggleable__control:checked~label.sk-toggleable__label-arrow:before {content: \"▾\";}#sk-container-id-5 div.sk-estimator input.sk-toggleable__control:checked~label.sk-toggleable__label {background-color: #d4ebff;}#sk-container-id-5 div.sk-label input.sk-toggleable__control:checked~label.sk-toggleable__label {background-color: #d4ebff;}#sk-container-id-5 input.sk-hidden--visually {border: 0;clip: rect(1px 1px 1px 1px);clip: rect(1px, 1px, 1px, 1px);height: 1px;margin: -1px;overflow: hidden;padding: 0;position: absolute;width: 1px;}#sk-container-id-5 div.sk-estimator {font-family: monospace;background-color: #f0f8ff;border: 1px dotted black;border-radius: 0.25em;box-sizing: border-box;margin-bottom: 0.5em;}#sk-container-id-5 div.sk-estimator:hover {background-color: #d4ebff;}#sk-container-id-5 div.sk-parallel-item::after {content: \"\";width: 100%;border-bottom: 1px solid gray;flex-grow: 1;}#sk-container-id-5 div.sk-label:hover label.sk-toggleable__label {background-color: #d4ebff;}#sk-container-id-5 div.sk-serial::before {content: \"\";position: absolute;border-left: 1px solid gray;box-sizing: border-box;top: 0;bottom: 0;left: 50%;z-index: 0;}#sk-container-id-5 div.sk-serial {display: flex;flex-direction: column;align-items: center;background-color: white;padding-right: 0.2em;padding-left: 0.2em;position: relative;}#sk-container-id-5 div.sk-item {position: relative;z-index: 1;}#sk-container-id-5 div.sk-parallel {display: flex;align-items: stretch;justify-content: center;background-color: white;position: relative;}#sk-container-id-5 div.sk-item::before, #sk-container-id-5 div.sk-parallel-item::before {content: \"\";position: absolute;border-left: 1px solid gray;box-sizing: border-box;top: 0;bottom: 0;left: 50%;z-index: -1;}#sk-container-id-5 div.sk-parallel-item {display: flex;flex-direction: column;z-index: 1;position: relative;background-color: white;}#sk-container-id-5 div.sk-parallel-item:first-child::after {align-self: flex-end;width: 50%;}#sk-container-id-5 div.sk-parallel-item:last-child::after {align-self: flex-start;width: 50%;}#sk-container-id-5 div.sk-parallel-item:only-child::after {width: 0;}#sk-container-id-5 div.sk-dashed-wrapped {border: 1px dashed gray;margin: 0 0.4em 0.5em 0.4em;box-sizing: border-box;padding-bottom: 0.4em;background-color: white;}#sk-container-id-5 div.sk-label label {font-family: monospace;font-weight: bold;display: inline-block;line-height: 1.2em;}#sk-container-id-5 div.sk-label-container {text-align: center;}#sk-container-id-5 div.sk-container {/* jupyter's `normalize.less` sets `[hidden] { display: none; }` but bootstrap.min.css set `[hidden] { display: none !important; }` so we also need the `!important` here to be able to override the default hidden behavior on the sphinx rendered scikit-learn.org. See: https://github.com/scikit-learn/scikit-learn/issues/21755 */display: inline-block !important;position: relative;}#sk-container-id-5 div.sk-text-repr-fallback {display: none;}</style><div id=\"sk-container-id-5\" class=\"sk-top-container\"><div class=\"sk-text-repr-fallback\"><pre>RandomForestRegressor(random_state=42)</pre><b>In a Jupyter environment, please rerun this cell to show the HTML representation or trust the notebook. <br />On GitHub, the HTML representation is unable to render, please try loading this page with nbviewer.org.</b></div><div class=\"sk-container\" hidden><div class=\"sk-item\"><div class=\"sk-estimator sk-toggleable\"><input class=\"sk-toggleable__control sk-hidden--visually\" id=\"sk-estimator-id-9\" type=\"checkbox\" checked><label for=\"sk-estimator-id-9\" class=\"sk-toggleable__label sk-toggleable__label-arrow\">RandomForestRegressor</label><div class=\"sk-toggleable__content\"><pre>RandomForestRegressor(random_state=42)</pre></div></div></div></div></div>"
      ],
      "text/plain": [
       "RandomForestRegressor(random_state=42)"
      ]
     },
     "execution_count": 57,
     "metadata": {},
     "output_type": "execute_result"
    }
   ],
   "source": [
    "from sklearn.ensemble import RandomForestRegressor\n",
    "\n",
    "forest_reg=RandomForestRegressor(n_estimators=100,random_state=42)\n",
    "forest_reg.fit(X_train,Y_train)"
   ]
  },
  {
   "cell_type": "code",
   "execution_count": 58,
   "id": "6a563aa0",
   "metadata": {
    "colab": {
     "base_uri": "https://localhost:8080/"
    },
    "id": "6a563aa0",
    "outputId": "b9455b8b-0009-4ed5-9c11-cd8237f16ce7"
   },
   "outputs": [
    {
     "data": {
      "text/plain": [
       "15.524175824175826"
      ]
     },
     "execution_count": 58,
     "metadata": {},
     "output_type": "execute_result"
    }
   ],
   "source": [
    "testing_data_prediction4=forest_reg.predict(X_test)\n",
    "mae4 = mean_absolute_error(Y_test,testing_data_prediction4)\n",
    "mae4"
   ]
  },
  {
   "cell_type": "code",
   "execution_count": 59,
   "id": "24a68c66",
   "metadata": {
    "colab": {
     "base_uri": "https://localhost:8080/"
    },
    "id": "24a68c66",
    "outputId": "fa3e6d9a-00a4-4cac-d0c6-1548b6c5ab84"
   },
   "outputs": [
    {
     "name": "stdout",
     "output_type": "stream",
     "text": [
      "R2 Score for Training Data: 0.9949901155544583\n",
      "R2 Score for Testing Data: 0.9153077305568518\n"
     ]
    }
   ],
   "source": [
    "from sklearn.metrics import r2_score\n",
    "\n",
    "# Assuming forest_reg is your trained RandomForestRegressor\n",
    "# Training set\n",
    "y_train_pred = forest_reg.predict(X_train)\n",
    "r2_train = r2_score(Y_train, y_train_pred)\n",
    "print(\"R2 Score for Training Data:\", r2_train)\n",
    "\n",
    "# Testing set\n",
    "y_test_pred = forest_reg.predict(X_test)\n",
    "r2_test = r2_score(Y_test, y_test_pred)\n",
    "print(\"R2 Score for Testing Data:\", r2_test)"
   ]
  },
  {
   "cell_type": "code",
   "execution_count": 60,
   "id": "EoH8tZp_VMIs",
   "metadata": {
    "colab": {
     "base_uri": "https://localhost:8080/"
    },
    "id": "EoH8tZp_VMIs",
    "outputId": "a352a9af-9945-4f09-c07d-840e057e10d9"
   },
   "outputs": [
    {
     "name": "stdout",
     "output_type": "stream",
     "text": [
      "Mean Squared Error (MSE) for Testing Data: 620.1572344322345\n",
      "Root Mean Squared Error (RMSE) for Testing Data: 24.90295633920267\n"
     ]
    }
   ],
   "source": [
    "from sklearn.metrics import mean_squared_error\n",
    "import numpy as np\n",
    "\n",
    "# Assuming forest_reg is your trained RandomForestRegressor\n",
    "# Testing set\n",
    "y_test_pred = forest_reg.predict(X_test)\n",
    "mse_test = mean_squared_error(Y_test, y_test_pred)\n",
    "rmse_test = np.sqrt(mse_test)\n",
    "print(\"Mean Squared Error (MSE) for Testing Data:\", mse_test)\n",
    "print(\"Root Mean Squared Error (RMSE) for Testing Data:\", rmse_test)"
   ]
  }
 ],
 "metadata": {
  "colab": {
   "provenance": []
  },
  "kernelspec": {
   "display_name": "Python 3 (ipykernel)",
   "language": "python",
   "name": "python3"
  },
  "language_info": {
   "codemirror_mode": {
    "name": "ipython",
    "version": 3
   },
   "file_extension": ".py",
   "mimetype": "text/x-python",
   "name": "python",
   "nbconvert_exporter": "python",
   "pygments_lexer": "ipython3",
   "version": "3.11.4"
  },
  "vscode": {
   "interpreter": {
    "hash": "b72cb7c6bf04cf17cf11a250e1b6f07b83d85a7124bdb6f6fda84be271673a39"
   }
  }
 },
 "nbformat": 4,
 "nbformat_minor": 5
}
